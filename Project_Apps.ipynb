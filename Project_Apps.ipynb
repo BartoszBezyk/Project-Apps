{
  "nbformat": 4,
  "nbformat_minor": 0,
  "metadata": {
    "colab": {
      "provenance": [],
      "toc_visible": true
    },
    "kernelspec": {
      "name": "python3",
      "display_name": "Python 3"
    },
    "language_info": {
      "name": "python"
    }
  },
  "cells": [
    {
      "cell_type": "markdown",
      "source": [
        "# Project Apps\n",
        "\n"
      ],
      "metadata": {
        "id": "zz2lN6lXuGRz"
      }
    },
    {
      "cell_type": "markdown",
      "source": [
        "The goal of this project is to find the most profitable within free to  download and install apps. The number of users of our apps determines our revenue for any given app — the more users who see and engage with the ads, the better. All data comes from The Google Play Store: \n",
        "(https://www.kaggle.com/lava18/google-play-store-apps) \n",
        "and The App Store:\n",
        "(https://www.kaggle.com/ramamet4/app-store-apple-data-set-10k-apps)"
      ],
      "metadata": {
        "id": "W3kK5aQHuK86"
      }
    },
    {
      "cell_type": "markdown",
      "source": [
        "Importing databases"
      ],
      "metadata": {
        "id": "sTaeZ_G5w-9C"
      }
    },
    {
      "cell_type": "code",
      "source": [
        "!wget https://dq-content.s3.amazonaws.com/350/googleplaystore.csv -O google_wget.csv\n",
        "!wget https://dq-content.s3.amazonaws.com/350/AppleStore.csv -O apple_wget.csv"
      ],
      "metadata": {
        "colab": {
          "base_uri": "https://localhost:8080/"
        },
        "id": "kvnBqjPquFfD",
        "outputId": "75ad7f3d-4d9f-465d-c8ba-69a2c4398574"
      },
      "execution_count": 158,
      "outputs": [
        {
          "output_type": "stream",
          "name": "stdout",
          "text": [
            "--2023-04-14 15:56:56--  https://dq-content.s3.amazonaws.com/350/googleplaystore.csv\n",
            "Resolving dq-content.s3.amazonaws.com (dq-content.s3.amazonaws.com)... 54.231.225.41, 52.217.85.36, 52.217.39.172, ...\n",
            "Connecting to dq-content.s3.amazonaws.com (dq-content.s3.amazonaws.com)|54.231.225.41|:443... connected.\n",
            "HTTP request sent, awaiting response... 200 OK\n",
            "Length: 1349314 (1.3M) [text/csv]\n",
            "Saving to: ‘google_wget.csv’\n",
            "\n",
            "\rgoogle_wget.csv       0%[                    ]       0  --.-KB/s               \rgoogle_wget.csv     100%[===================>]   1.29M  --.-KB/s    in 0.02s   \n",
            "\n",
            "2023-04-14 15:56:56 (67.0 MB/s) - ‘google_wget.csv’ saved [1349314/1349314]\n",
            "\n",
            "--2023-04-14 15:56:56--  https://dq-content.s3.amazonaws.com/350/AppleStore.csv\n",
            "Resolving dq-content.s3.amazonaws.com (dq-content.s3.amazonaws.com)... 54.231.225.41, 52.217.85.36, 52.217.39.172, ...\n",
            "Connecting to dq-content.s3.amazonaws.com (dq-content.s3.amazonaws.com)|54.231.225.41|:443... connected.\n",
            "HTTP request sent, awaiting response... 200 OK\n",
            "Length: 725761 (709K) [text/csv]\n",
            "Saving to: ‘apple_wget.csv’\n",
            "\n",
            "apple_wget.csv      100%[===================>] 708.75K  --.-KB/s    in 0.02s   \n",
            "\n",
            "2023-04-14 15:56:56 (43.6 MB/s) - ‘apple_wget.csv’ saved [725761/725761]\n",
            "\n"
          ]
        }
      ]
    },
    {
      "cell_type": "markdown",
      "source": [
        "Loading data"
      ],
      "metadata": {
        "id": "SN6WDlePw7aX"
      }
    },
    {
      "cell_type": "code",
      "source": [
        "from csv import reader\n",
        "android = list(reader(open('google_wget.csv')))\n",
        "android_header = android[0]\n",
        "android = android[1:]\n",
        "ios = list(reader(open('apple_wget.csv')))\n",
        "ios_header = ios[0]\n",
        "ios = ios[1:]"
      ],
      "metadata": {
        "id": "DghFHJk1uXRK"
      },
      "execution_count": 159,
      "outputs": []
    },
    {
      "cell_type": "markdown",
      "source": [
        "Creating function (explore_data) that prints specific rows in our data \n",
        "(that we want to explore) and total number of rows and columns"
      ],
      "metadata": {
        "id": "nIHGGkaYw3A8"
      }
    },
    {
      "cell_type": "code",
      "source": [
        "def explore_data(dataset, start, end, rows_and_columns=False):\n",
        "  dataset_slice = dataset[start:end]\n",
        "  for row in dataset_slice:\n",
        "    print(row)\n",
        "    print('\\n') # adds a new (empty) line after each row\n",
        "\n",
        "  if rows_and_columns:\n",
        "    print('Number  of rows:', len(dataset))\n",
        "    print('Number of columns:', len(dataset[0]))"
      ],
      "metadata": {
        "id": "sPTXRi3RuiQC"
      },
      "execution_count": 160,
      "outputs": []
    },
    {
      "cell_type": "markdown",
      "source": [
        "Printing first 5 rows in ours dataset"
      ],
      "metadata": {
        "id": "nz1ENDIgww1i"
      }
    },
    {
      "cell_type": "code",
      "source": [
        "explore_data(ios, 0, 5, True)"
      ],
      "metadata": {
        "colab": {
          "base_uri": "https://localhost:8080/"
        },
        "id": "fP5T3TAvwCht",
        "outputId": "5eb1d6ee-37b9-46d4-beaa-3f00af058c26"
      },
      "execution_count": 161,
      "outputs": [
        {
          "output_type": "stream",
          "name": "stdout",
          "text": [
            "['284882215', 'Facebook', '389879808', 'USD', '0.0', '2974676', '212', '3.5', '3.5', '95.0', '4+', 'Social Networking', '37', '1', '29', '1']\n",
            "\n",
            "\n",
            "['389801252', 'Instagram', '113954816', 'USD', '0.0', '2161558', '1289', '4.5', '4.0', '10.23', '12+', 'Photo & Video', '37', '0', '29', '1']\n",
            "\n",
            "\n",
            "['529479190', 'Clash of Clans', '116476928', 'USD', '0.0', '2130805', '579', '4.5', '4.5', '9.24.12', '9+', 'Games', '38', '5', '18', '1']\n",
            "\n",
            "\n",
            "['420009108', 'Temple Run', '65921024', 'USD', '0.0', '1724546', '3842', '4.5', '4.0', '1.6.2', '9+', 'Games', '40', '5', '1', '1']\n",
            "\n",
            "\n",
            "['284035177', 'Pandora - Music & Radio', '130242560', 'USD', '0.0', '1126879', '3594', '4.0', '4.5', '8.4.1', '12+', 'Music', '37', '4', '1', '1']\n",
            "\n",
            "\n",
            "Number  of rows: 7197\n",
            "Number of columns: 16\n"
          ]
        }
      ]
    },
    {
      "cell_type": "markdown",
      "source": [
        " The same function but in package 'Pandas'. Data is much clearer to explore."
      ],
      "metadata": {
        "id": "XoKpHZ2ewt7l"
      }
    },
    {
      "cell_type": "code",
      "source": [
        "def explore_data_pandas(aaa, start, end):\n",
        "  print(f'Number of rows: {len(aaa)}')\n",
        "  print(f'Number of columns: {len(aaa[0])}')\n",
        "  import pandas\n",
        "  df = pandas.DataFrame(aaa[start:end])\n",
        "  display(df)"
      ],
      "metadata": {
        "id": "g4wkkPrawNB0"
      },
      "execution_count": 162,
      "outputs": []
    },
    {
      "cell_type": "code",
      "source": [
        "explore_data_pandas(ios, 0, 5)"
      ],
      "metadata": {
        "colab": {
          "base_uri": "https://localhost:8080/",
          "height": 241
        },
        "id": "vKUczub1xkK6",
        "outputId": "e2f11a35-5840-4898-dd75-874e651e5f74"
      },
      "execution_count": 163,
      "outputs": [
        {
          "output_type": "stream",
          "name": "stdout",
          "text": [
            "Number of rows: 7197\n",
            "Number of columns: 16\n"
          ]
        },
        {
          "output_type": "display_data",
          "data": {
            "text/plain": [
              "          0                        1          2    3    4        5     6   \\\n",
              "0  284882215                 Facebook  389879808  USD  0.0  2974676   212   \n",
              "1  389801252                Instagram  113954816  USD  0.0  2161558  1289   \n",
              "2  529479190           Clash of Clans  116476928  USD  0.0  2130805   579   \n",
              "3  420009108               Temple Run   65921024  USD  0.0  1724546  3842   \n",
              "4  284035177  Pandora - Music & Radio  130242560  USD  0.0  1126879  3594   \n",
              "\n",
              "    7    8        9    10                 11  12 13  14 15  \n",
              "0  3.5  3.5     95.0   4+  Social Networking  37  1  29  1  \n",
              "1  4.5  4.0    10.23  12+      Photo & Video  37  0  29  1  \n",
              "2  4.5  4.5  9.24.12   9+              Games  38  5  18  1  \n",
              "3  4.5  4.0    1.6.2   9+              Games  40  5   1  1  \n",
              "4  4.0  4.5    8.4.1  12+              Music  37  4   1  1  "
            ],
            "text/html": [
              "\n",
              "  <div id=\"df-c39751d0-bfe0-4a75-99cb-7c243c300003\">\n",
              "    <div class=\"colab-df-container\">\n",
              "      <div>\n",
              "<style scoped>\n",
              "    .dataframe tbody tr th:only-of-type {\n",
              "        vertical-align: middle;\n",
              "    }\n",
              "\n",
              "    .dataframe tbody tr th {\n",
              "        vertical-align: top;\n",
              "    }\n",
              "\n",
              "    .dataframe thead th {\n",
              "        text-align: right;\n",
              "    }\n",
              "</style>\n",
              "<table border=\"1\" class=\"dataframe\">\n",
              "  <thead>\n",
              "    <tr style=\"text-align: right;\">\n",
              "      <th></th>\n",
              "      <th>0</th>\n",
              "      <th>1</th>\n",
              "      <th>2</th>\n",
              "      <th>3</th>\n",
              "      <th>4</th>\n",
              "      <th>5</th>\n",
              "      <th>6</th>\n",
              "      <th>7</th>\n",
              "      <th>8</th>\n",
              "      <th>9</th>\n",
              "      <th>10</th>\n",
              "      <th>11</th>\n",
              "      <th>12</th>\n",
              "      <th>13</th>\n",
              "      <th>14</th>\n",
              "      <th>15</th>\n",
              "    </tr>\n",
              "  </thead>\n",
              "  <tbody>\n",
              "    <tr>\n",
              "      <th>0</th>\n",
              "      <td>284882215</td>\n",
              "      <td>Facebook</td>\n",
              "      <td>389879808</td>\n",
              "      <td>USD</td>\n",
              "      <td>0.0</td>\n",
              "      <td>2974676</td>\n",
              "      <td>212</td>\n",
              "      <td>3.5</td>\n",
              "      <td>3.5</td>\n",
              "      <td>95.0</td>\n",
              "      <td>4+</td>\n",
              "      <td>Social Networking</td>\n",
              "      <td>37</td>\n",
              "      <td>1</td>\n",
              "      <td>29</td>\n",
              "      <td>1</td>\n",
              "    </tr>\n",
              "    <tr>\n",
              "      <th>1</th>\n",
              "      <td>389801252</td>\n",
              "      <td>Instagram</td>\n",
              "      <td>113954816</td>\n",
              "      <td>USD</td>\n",
              "      <td>0.0</td>\n",
              "      <td>2161558</td>\n",
              "      <td>1289</td>\n",
              "      <td>4.5</td>\n",
              "      <td>4.0</td>\n",
              "      <td>10.23</td>\n",
              "      <td>12+</td>\n",
              "      <td>Photo &amp; Video</td>\n",
              "      <td>37</td>\n",
              "      <td>0</td>\n",
              "      <td>29</td>\n",
              "      <td>1</td>\n",
              "    </tr>\n",
              "    <tr>\n",
              "      <th>2</th>\n",
              "      <td>529479190</td>\n",
              "      <td>Clash of Clans</td>\n",
              "      <td>116476928</td>\n",
              "      <td>USD</td>\n",
              "      <td>0.0</td>\n",
              "      <td>2130805</td>\n",
              "      <td>579</td>\n",
              "      <td>4.5</td>\n",
              "      <td>4.5</td>\n",
              "      <td>9.24.12</td>\n",
              "      <td>9+</td>\n",
              "      <td>Games</td>\n",
              "      <td>38</td>\n",
              "      <td>5</td>\n",
              "      <td>18</td>\n",
              "      <td>1</td>\n",
              "    </tr>\n",
              "    <tr>\n",
              "      <th>3</th>\n",
              "      <td>420009108</td>\n",
              "      <td>Temple Run</td>\n",
              "      <td>65921024</td>\n",
              "      <td>USD</td>\n",
              "      <td>0.0</td>\n",
              "      <td>1724546</td>\n",
              "      <td>3842</td>\n",
              "      <td>4.5</td>\n",
              "      <td>4.0</td>\n",
              "      <td>1.6.2</td>\n",
              "      <td>9+</td>\n",
              "      <td>Games</td>\n",
              "      <td>40</td>\n",
              "      <td>5</td>\n",
              "      <td>1</td>\n",
              "      <td>1</td>\n",
              "    </tr>\n",
              "    <tr>\n",
              "      <th>4</th>\n",
              "      <td>284035177</td>\n",
              "      <td>Pandora - Music &amp; Radio</td>\n",
              "      <td>130242560</td>\n",
              "      <td>USD</td>\n",
              "      <td>0.0</td>\n",
              "      <td>1126879</td>\n",
              "      <td>3594</td>\n",
              "      <td>4.0</td>\n",
              "      <td>4.5</td>\n",
              "      <td>8.4.1</td>\n",
              "      <td>12+</td>\n",
              "      <td>Music</td>\n",
              "      <td>37</td>\n",
              "      <td>4</td>\n",
              "      <td>1</td>\n",
              "      <td>1</td>\n",
              "    </tr>\n",
              "  </tbody>\n",
              "</table>\n",
              "</div>\n",
              "      <button class=\"colab-df-convert\" onclick=\"convertToInteractive('df-c39751d0-bfe0-4a75-99cb-7c243c300003')\"\n",
              "              title=\"Convert this dataframe to an interactive table.\"\n",
              "              style=\"display:none;\">\n",
              "        \n",
              "  <svg xmlns=\"http://www.w3.org/2000/svg\" height=\"24px\"viewBox=\"0 0 24 24\"\n",
              "       width=\"24px\">\n",
              "    <path d=\"M0 0h24v24H0V0z\" fill=\"none\"/>\n",
              "    <path d=\"M18.56 5.44l.94 2.06.94-2.06 2.06-.94-2.06-.94-.94-2.06-.94 2.06-2.06.94zm-11 1L8.5 8.5l.94-2.06 2.06-.94-2.06-.94L8.5 2.5l-.94 2.06-2.06.94zm10 10l.94 2.06.94-2.06 2.06-.94-2.06-.94-.94-2.06-.94 2.06-2.06.94z\"/><path d=\"M17.41 7.96l-1.37-1.37c-.4-.4-.92-.59-1.43-.59-.52 0-1.04.2-1.43.59L10.3 9.45l-7.72 7.72c-.78.78-.78 2.05 0 2.83L4 21.41c.39.39.9.59 1.41.59.51 0 1.02-.2 1.41-.59l7.78-7.78 2.81-2.81c.8-.78.8-2.07 0-2.86zM5.41 20L4 18.59l7.72-7.72 1.47 1.35L5.41 20z\"/>\n",
              "  </svg>\n",
              "      </button>\n",
              "      \n",
              "  <style>\n",
              "    .colab-df-container {\n",
              "      display:flex;\n",
              "      flex-wrap:wrap;\n",
              "      gap: 12px;\n",
              "    }\n",
              "\n",
              "    .colab-df-convert {\n",
              "      background-color: #E8F0FE;\n",
              "      border: none;\n",
              "      border-radius: 50%;\n",
              "      cursor: pointer;\n",
              "      display: none;\n",
              "      fill: #1967D2;\n",
              "      height: 32px;\n",
              "      padding: 0 0 0 0;\n",
              "      width: 32px;\n",
              "    }\n",
              "\n",
              "    .colab-df-convert:hover {\n",
              "      background-color: #E2EBFA;\n",
              "      box-shadow: 0px 1px 2px rgba(60, 64, 67, 0.3), 0px 1px 3px 1px rgba(60, 64, 67, 0.15);\n",
              "      fill: #174EA6;\n",
              "    }\n",
              "\n",
              "    [theme=dark] .colab-df-convert {\n",
              "      background-color: #3B4455;\n",
              "      fill: #D2E3FC;\n",
              "    }\n",
              "\n",
              "    [theme=dark] .colab-df-convert:hover {\n",
              "      background-color: #434B5C;\n",
              "      box-shadow: 0px 1px 3px 1px rgba(0, 0, 0, 0.15);\n",
              "      filter: drop-shadow(0px 1px 2px rgba(0, 0, 0, 0.3));\n",
              "      fill: #FFFFFF;\n",
              "    }\n",
              "  </style>\n",
              "\n",
              "      <script>\n",
              "        const buttonEl =\n",
              "          document.querySelector('#df-c39751d0-bfe0-4a75-99cb-7c243c300003 button.colab-df-convert');\n",
              "        buttonEl.style.display =\n",
              "          google.colab.kernel.accessAllowed ? 'block' : 'none';\n",
              "\n",
              "        async function convertToInteractive(key) {\n",
              "          const element = document.querySelector('#df-c39751d0-bfe0-4a75-99cb-7c243c300003');\n",
              "          const dataTable =\n",
              "            await google.colab.kernel.invokeFunction('convertToInteractive',\n",
              "                                                     [key], {});\n",
              "          if (!dataTable) return;\n",
              "\n",
              "          const docLinkHtml = 'Like what you see? Visit the ' +\n",
              "            '<a target=\"_blank\" href=https://colab.research.google.com/notebooks/data_table.ipynb>data table notebook</a>'\n",
              "            + ' to learn more about interactive tables.';\n",
              "          element.innerHTML = '';\n",
              "          dataTable['output_type'] = 'display_data';\n",
              "          await google.colab.output.renderOutput(dataTable, element);\n",
              "          const docLink = document.createElement('div');\n",
              "          docLink.innerHTML = docLinkHtml;\n",
              "          element.appendChild(docLink);\n",
              "        }\n",
              "      </script>\n",
              "    </div>\n",
              "  </div>\n",
              "  "
            ]
          },
          "metadata": {}
        }
      ]
    },
    {
      "cell_type": "code",
      "source": [
        "explore_data_pandas(android,0,5)"
      ],
      "metadata": {
        "colab": {
          "base_uri": "https://localhost:8080/",
          "height": 371
        },
        "id": "hmbnDvbPxqAS",
        "outputId": "11127a4a-a3f3-4575-b5c2-db725755f00b"
      },
      "execution_count": 164,
      "outputs": [
        {
          "output_type": "stream",
          "name": "stdout",
          "text": [
            "Number of rows: 10841\n",
            "Number of columns: 13\n"
          ]
        },
        {
          "output_type": "display_data",
          "data": {
            "text/plain": [
              "                                                  0               1    2   \\\n",
              "0     Photo Editor & Candy Camera & Grid & ScrapBook  ART_AND_DESIGN  4.1   \n",
              "1                                Coloring book moana  ART_AND_DESIGN  3.9   \n",
              "2  U Launcher Lite – FREE Live Cool Themes, Hide ...  ART_AND_DESIGN  4.7   \n",
              "3                              Sketch - Draw & Paint  ART_AND_DESIGN  4.5   \n",
              "4              Pixel Draw - Number Art Coloring Book  ART_AND_DESIGN  4.3   \n",
              "\n",
              "       3     4            5     6  7         8                          9   \\\n",
              "0     159   19M      10,000+  Free  0  Everyone               Art & Design   \n",
              "1     967   14M     500,000+  Free  0  Everyone  Art & Design;Pretend Play   \n",
              "2   87510  8.7M   5,000,000+  Free  0  Everyone               Art & Design   \n",
              "3  215644   25M  50,000,000+  Free  0      Teen               Art & Design   \n",
              "4     967  2.8M     100,000+  Free  0  Everyone    Art & Design;Creativity   \n",
              "\n",
              "                 10                  11            12  \n",
              "0   January 7, 2018               1.0.0  4.0.3 and up  \n",
              "1  January 15, 2018               2.0.0  4.0.3 and up  \n",
              "2    August 1, 2018               1.2.4  4.0.3 and up  \n",
              "3      June 8, 2018  Varies with device    4.2 and up  \n",
              "4     June 20, 2018                 1.1    4.4 and up  "
            ],
            "text/html": [
              "\n",
              "  <div id=\"df-c45dacfb-788a-45a2-88a7-856612029c99\">\n",
              "    <div class=\"colab-df-container\">\n",
              "      <div>\n",
              "<style scoped>\n",
              "    .dataframe tbody tr th:only-of-type {\n",
              "        vertical-align: middle;\n",
              "    }\n",
              "\n",
              "    .dataframe tbody tr th {\n",
              "        vertical-align: top;\n",
              "    }\n",
              "\n",
              "    .dataframe thead th {\n",
              "        text-align: right;\n",
              "    }\n",
              "</style>\n",
              "<table border=\"1\" class=\"dataframe\">\n",
              "  <thead>\n",
              "    <tr style=\"text-align: right;\">\n",
              "      <th></th>\n",
              "      <th>0</th>\n",
              "      <th>1</th>\n",
              "      <th>2</th>\n",
              "      <th>3</th>\n",
              "      <th>4</th>\n",
              "      <th>5</th>\n",
              "      <th>6</th>\n",
              "      <th>7</th>\n",
              "      <th>8</th>\n",
              "      <th>9</th>\n",
              "      <th>10</th>\n",
              "      <th>11</th>\n",
              "      <th>12</th>\n",
              "    </tr>\n",
              "  </thead>\n",
              "  <tbody>\n",
              "    <tr>\n",
              "      <th>0</th>\n",
              "      <td>Photo Editor &amp; Candy Camera &amp; Grid &amp; ScrapBook</td>\n",
              "      <td>ART_AND_DESIGN</td>\n",
              "      <td>4.1</td>\n",
              "      <td>159</td>\n",
              "      <td>19M</td>\n",
              "      <td>10,000+</td>\n",
              "      <td>Free</td>\n",
              "      <td>0</td>\n",
              "      <td>Everyone</td>\n",
              "      <td>Art &amp; Design</td>\n",
              "      <td>January 7, 2018</td>\n",
              "      <td>1.0.0</td>\n",
              "      <td>4.0.3 and up</td>\n",
              "    </tr>\n",
              "    <tr>\n",
              "      <th>1</th>\n",
              "      <td>Coloring book moana</td>\n",
              "      <td>ART_AND_DESIGN</td>\n",
              "      <td>3.9</td>\n",
              "      <td>967</td>\n",
              "      <td>14M</td>\n",
              "      <td>500,000+</td>\n",
              "      <td>Free</td>\n",
              "      <td>0</td>\n",
              "      <td>Everyone</td>\n",
              "      <td>Art &amp; Design;Pretend Play</td>\n",
              "      <td>January 15, 2018</td>\n",
              "      <td>2.0.0</td>\n",
              "      <td>4.0.3 and up</td>\n",
              "    </tr>\n",
              "    <tr>\n",
              "      <th>2</th>\n",
              "      <td>U Launcher Lite – FREE Live Cool Themes, Hide ...</td>\n",
              "      <td>ART_AND_DESIGN</td>\n",
              "      <td>4.7</td>\n",
              "      <td>87510</td>\n",
              "      <td>8.7M</td>\n",
              "      <td>5,000,000+</td>\n",
              "      <td>Free</td>\n",
              "      <td>0</td>\n",
              "      <td>Everyone</td>\n",
              "      <td>Art &amp; Design</td>\n",
              "      <td>August 1, 2018</td>\n",
              "      <td>1.2.4</td>\n",
              "      <td>4.0.3 and up</td>\n",
              "    </tr>\n",
              "    <tr>\n",
              "      <th>3</th>\n",
              "      <td>Sketch - Draw &amp; Paint</td>\n",
              "      <td>ART_AND_DESIGN</td>\n",
              "      <td>4.5</td>\n",
              "      <td>215644</td>\n",
              "      <td>25M</td>\n",
              "      <td>50,000,000+</td>\n",
              "      <td>Free</td>\n",
              "      <td>0</td>\n",
              "      <td>Teen</td>\n",
              "      <td>Art &amp; Design</td>\n",
              "      <td>June 8, 2018</td>\n",
              "      <td>Varies with device</td>\n",
              "      <td>4.2 and up</td>\n",
              "    </tr>\n",
              "    <tr>\n",
              "      <th>4</th>\n",
              "      <td>Pixel Draw - Number Art Coloring Book</td>\n",
              "      <td>ART_AND_DESIGN</td>\n",
              "      <td>4.3</td>\n",
              "      <td>967</td>\n",
              "      <td>2.8M</td>\n",
              "      <td>100,000+</td>\n",
              "      <td>Free</td>\n",
              "      <td>0</td>\n",
              "      <td>Everyone</td>\n",
              "      <td>Art &amp; Design;Creativity</td>\n",
              "      <td>June 20, 2018</td>\n",
              "      <td>1.1</td>\n",
              "      <td>4.4 and up</td>\n",
              "    </tr>\n",
              "  </tbody>\n",
              "</table>\n",
              "</div>\n",
              "      <button class=\"colab-df-convert\" onclick=\"convertToInteractive('df-c45dacfb-788a-45a2-88a7-856612029c99')\"\n",
              "              title=\"Convert this dataframe to an interactive table.\"\n",
              "              style=\"display:none;\">\n",
              "        \n",
              "  <svg xmlns=\"http://www.w3.org/2000/svg\" height=\"24px\"viewBox=\"0 0 24 24\"\n",
              "       width=\"24px\">\n",
              "    <path d=\"M0 0h24v24H0V0z\" fill=\"none\"/>\n",
              "    <path d=\"M18.56 5.44l.94 2.06.94-2.06 2.06-.94-2.06-.94-.94-2.06-.94 2.06-2.06.94zm-11 1L8.5 8.5l.94-2.06 2.06-.94-2.06-.94L8.5 2.5l-.94 2.06-2.06.94zm10 10l.94 2.06.94-2.06 2.06-.94-2.06-.94-.94-2.06-.94 2.06-2.06.94z\"/><path d=\"M17.41 7.96l-1.37-1.37c-.4-.4-.92-.59-1.43-.59-.52 0-1.04.2-1.43.59L10.3 9.45l-7.72 7.72c-.78.78-.78 2.05 0 2.83L4 21.41c.39.39.9.59 1.41.59.51 0 1.02-.2 1.41-.59l7.78-7.78 2.81-2.81c.8-.78.8-2.07 0-2.86zM5.41 20L4 18.59l7.72-7.72 1.47 1.35L5.41 20z\"/>\n",
              "  </svg>\n",
              "      </button>\n",
              "      \n",
              "  <style>\n",
              "    .colab-df-container {\n",
              "      display:flex;\n",
              "      flex-wrap:wrap;\n",
              "      gap: 12px;\n",
              "    }\n",
              "\n",
              "    .colab-df-convert {\n",
              "      background-color: #E8F0FE;\n",
              "      border: none;\n",
              "      border-radius: 50%;\n",
              "      cursor: pointer;\n",
              "      display: none;\n",
              "      fill: #1967D2;\n",
              "      height: 32px;\n",
              "      padding: 0 0 0 0;\n",
              "      width: 32px;\n",
              "    }\n",
              "\n",
              "    .colab-df-convert:hover {\n",
              "      background-color: #E2EBFA;\n",
              "      box-shadow: 0px 1px 2px rgba(60, 64, 67, 0.3), 0px 1px 3px 1px rgba(60, 64, 67, 0.15);\n",
              "      fill: #174EA6;\n",
              "    }\n",
              "\n",
              "    [theme=dark] .colab-df-convert {\n",
              "      background-color: #3B4455;\n",
              "      fill: #D2E3FC;\n",
              "    }\n",
              "\n",
              "    [theme=dark] .colab-df-convert:hover {\n",
              "      background-color: #434B5C;\n",
              "      box-shadow: 0px 1px 3px 1px rgba(0, 0, 0, 0.15);\n",
              "      filter: drop-shadow(0px 1px 2px rgba(0, 0, 0, 0.3));\n",
              "      fill: #FFFFFF;\n",
              "    }\n",
              "  </style>\n",
              "\n",
              "      <script>\n",
              "        const buttonEl =\n",
              "          document.querySelector('#df-c45dacfb-788a-45a2-88a7-856612029c99 button.colab-df-convert');\n",
              "        buttonEl.style.display =\n",
              "          google.colab.kernel.accessAllowed ? 'block' : 'none';\n",
              "\n",
              "        async function convertToInteractive(key) {\n",
              "          const element = document.querySelector('#df-c45dacfb-788a-45a2-88a7-856612029c99');\n",
              "          const dataTable =\n",
              "            await google.colab.kernel.invokeFunction('convertToInteractive',\n",
              "                                                     [key], {});\n",
              "          if (!dataTable) return;\n",
              "\n",
              "          const docLinkHtml = 'Like what you see? Visit the ' +\n",
              "            '<a target=\"_blank\" href=https://colab.research.google.com/notebooks/data_table.ipynb>data table notebook</a>'\n",
              "            + ' to learn more about interactive tables.';\n",
              "          element.innerHTML = '';\n",
              "          dataTable['output_type'] = 'display_data';\n",
              "          await google.colab.output.renderOutput(dataTable, element);\n",
              "          const docLink = document.createElement('div');\n",
              "          docLink.innerHTML = docLinkHtml;\n",
              "          element.appendChild(docLink);\n",
              "        }\n",
              "      </script>\n",
              "    </div>\n",
              "  </div>\n",
              "  "
            ]
          },
          "metadata": {}
        }
      ]
    },
    {
      "cell_type": "markdown",
      "source": [
        "Finding incorrect rows (missing value in 'Category' column"
      ],
      "metadata": {
        "id": "-xahBXT7yG9y"
      }
    },
    {
      "cell_type": "code",
      "source": [
        "print(android[10472])"
      ],
      "metadata": {
        "colab": {
          "base_uri": "https://localhost:8080/"
        },
        "id": "gGvnLGc8yEUl",
        "outputId": "868c2073-1761-46c7-bc35-77eea2c893d3"
      },
      "execution_count": 165,
      "outputs": [
        {
          "output_type": "stream",
          "name": "stdout",
          "text": [
            "['Life Made WI-Fi Touchscreen Photo Frame', '1.9', '19', '3.0M', '1,000+', 'Free', '0', 'Everyone', '', 'February 11, 2018', '1.0.19', '4.0 and up']\n"
          ]
        }
      ]
    },
    {
      "cell_type": "markdown",
      "source": [
        "Deleting this specific row"
      ],
      "metadata": {
        "id": "IPeMy4FSzMVd"
      }
    },
    {
      "cell_type": "code",
      "source": [
        "for i, row in enumerate(android):\n",
        "    if row[0] == 'Life Made WI-Fi Touchscreen Photo Frame':\n",
        "        del android[i]\n",
        "        break"
      ],
      "metadata": {
        "id": "eAngSrtjyPhH"
      },
      "execution_count": 166,
      "outputs": []
    },
    {
      "cell_type": "code",
      "source": [
        "print(android[10472])"
      ],
      "metadata": {
        "colab": {
          "base_uri": "https://localhost:8080/"
        },
        "id": "cuZG7eiXzIKd",
        "outputId": "69da7593-7563-4bf7-e2fe-2379646f1091"
      },
      "execution_count": 167,
      "outputs": [
        {
          "output_type": "stream",
          "name": "stdout",
          "text": [
            "['osmino Wi-Fi: free WiFi', 'TOOLS', '4.2', '134203', '4.1M', '10,000,000+', 'Free', '0', 'Everyone', 'Tools', 'August 7, 2018', '6.06.14', '4.4 and up']\n"
          ]
        }
      ]
    },
    {
      "cell_type": "markdown",
      "source": [
        "Creating a function that shows us how many unique apps we have"
      ],
      "metadata": {
        "id": "7wYtQ7eIzap1"
      }
    },
    {
      "cell_type": "code",
      "source": [
        "def unique_apps(data):\n",
        "  unique_apps=[]\n",
        "  duplicate_app = []\n",
        "\n",
        "  if data == android:\n",
        "    for row in data:\n",
        "      app_id = row[0]\n",
        "\n",
        "      if app_id not in unique_apps:\n",
        "        unique_apps.append(app_id)\n",
        "      else:\n",
        "        duplicate_app.append(app_id)\n",
        "\n",
        "  elif data == ios:\n",
        "    for row in data:\n",
        "      app_id = row[1]\n",
        "\n",
        "      if app_id  not in unique_apps:\n",
        "        unique_apps.append(app_id)\n",
        "      else:\n",
        "        duplicate_app.append(app_id)\n",
        "\n",
        "  print('Number of unqie apps: ' + ' ' + str(len(unique_apps)))\n",
        "  print('Number of duplicate apps' + ' ' + str(len(duplicate_app)))"
      ],
      "metadata": {
        "id": "pCCZbJ71zKNw"
      },
      "execution_count": 168,
      "outputs": []
    },
    {
      "cell_type": "code",
      "source": [
        "unique_apps(android)"
      ],
      "metadata": {
        "colab": {
          "base_uri": "https://localhost:8080/"
        },
        "id": "n0hvZGJfz21u",
        "outputId": "129371f8-8cb3-44d3-bc00-8427e3e4af4d"
      },
      "execution_count": 169,
      "outputs": [
        {
          "output_type": "stream",
          "name": "stdout",
          "text": [
            "Number of unqie apps:  9659\n",
            "Number of duplicate apps 1181\n"
          ]
        }
      ]
    },
    {
      "cell_type": "code",
      "source": [
        "unique_apps(ios)"
      ],
      "metadata": {
        "colab": {
          "base_uri": "https://localhost:8080/"
        },
        "id": "rJbyAxqR00Oi",
        "outputId": "3fe309c9-0a57-4f62-a0b9-05306b74d1af"
      },
      "execution_count": 170,
      "outputs": [
        {
          "output_type": "stream",
          "name": "stdout",
          "text": [
            "Number of unqie apps:  7195\n",
            "Number of duplicate apps 2\n"
          ]
        }
      ]
    },
    {
      "cell_type": "markdown",
      "source": [
        "Creating a function which stores dictionaries with the highest numbers of reviews for each app"
      ],
      "metadata": {
        "id": "nMHxK0LF1HjP"
      }
    },
    {
      "cell_type": "code",
      "source": [
        "def reviews(data):\n",
        "  def convert_str_to_float(string):\n",
        "    if string[-1] == 'M':\n",
        "        return float(string[:-1]) * 1000000\n",
        "    else:\n",
        "        return float(string)\n",
        "\n",
        "\n",
        "  if data == android:\n",
        "    rev_dict = {}\n",
        "    for row in android:\n",
        "        app_id = row[0]\n",
        "        n_rev = convert_str_to_float(row[3])\n",
        "    \n",
        "        if app_id in rev_dict and rev_dict[app_id] < n_rev:\n",
        "            rev_dict[app_id] = n_rev\n",
        "        elif app_id not in rev_dict:\n",
        "            rev_dict[app_id] = n_rev\n",
        "\n",
        "    return rev_dict\n",
        "\n",
        "  elif data == ios:\n",
        "    rev_dict = {}\n",
        "    for row in ios:\n",
        "      app_id = row[1]\n",
        "      n_rev = convert_str_to_float(row[5])\n",
        "    \n",
        "      if app_id in rev_dict and rev_dict[app_id] < n_rev:\n",
        "        rev_dict[app_id] = n_rev\n",
        "      elif app_id not in rev_dict:\n",
        "        rev_dict[app_id] = n_rev\n",
        "\n",
        "    return rev_dict"
      ],
      "metadata": {
        "id": "q9F11HK-03v6"
      },
      "execution_count": 171,
      "outputs": []
    },
    {
      "cell_type": "markdown",
      "source": [
        "Variabies with reviews for android and ios"
      ],
      "metadata": {
        "id": "OOksO5IC3ePm"
      }
    },
    {
      "cell_type": "code",
      "source": [
        "import pandas as pd\n",
        "\n",
        "android_rev_dict = reviews(android)\n",
        "ios_rev_dict  = reviews(ios)\n",
        "\n",
        "android_rev_dict_pandas = pd.DataFrame(list(android_rev_dict.items()), columns=['App', 'n_rev'])\n",
        "ios_rev_dict_pandas = pd.DataFrame(list(ios_rev_dict.items()), columns=['App', 'n_rev'])\n"
      ],
      "metadata": {
        "id": "HctE59tU1jpO"
      },
      "execution_count": 172,
      "outputs": []
    },
    {
      "cell_type": "code",
      "source": [
        "print(android_rev_dict_pandas)\n"
      ],
      "metadata": {
        "colab": {
          "base_uri": "https://localhost:8080/"
        },
        "id": "t_MeA-fn3hPl",
        "outputId": "49816c9b-d6c1-497f-f7d6-534c7eeb2be0"
      },
      "execution_count": 173,
      "outputs": [
        {
          "output_type": "stream",
          "name": "stdout",
          "text": [
            "                                                    App     n_rev\n",
            "0        Photo Editor & Candy Camera & Grid & ScrapBook     159.0\n",
            "1                                   Coloring book moana     974.0\n",
            "2     U Launcher Lite – FREE Live Cool Themes, Hide ...   87510.0\n",
            "3                                 Sketch - Draw & Paint  215644.0\n",
            "4                 Pixel Draw - Number Art Coloring Book     967.0\n",
            "...                                                 ...       ...\n",
            "9654                                   Sya9a Maroc - FR      38.0\n",
            "9655                   Fr. Mike Schmitz Audio Teachings       4.0\n",
            "9656                             Parkinson Exercices FR       3.0\n",
            "9657                      The SCP Foundation DB fr nn5n     114.0\n",
            "9658      iHoroscope - 2018 Daily Horoscope & Astrology  398307.0\n",
            "\n",
            "[9659 rows x 2 columns]\n"
          ]
        }
      ]
    },
    {
      "cell_type": "code",
      "source": [
        "print(ios_rev_dict_pandas)"
      ],
      "metadata": {
        "colab": {
          "base_uri": "https://localhost:8080/"
        },
        "id": "Hfy-jP4e7ZoY",
        "outputId": "67a275a7-830a-4c47-ab2f-51a3865547fc"
      },
      "execution_count": 174,
      "outputs": [
        {
          "output_type": "stream",
          "name": "stdout",
          "text": [
            "                                               App      n_rev\n",
            "0                                         Facebook  2974676.0\n",
            "1                                        Instagram  2161558.0\n",
            "2                                   Clash of Clans  2130805.0\n",
            "3                                       Temple Run  1724546.0\n",
            "4                          Pandora - Music & Radio  1126879.0\n",
            "...                                            ...        ...\n",
            "7190  Shark Boom - Challenge Friends with your Pet        0.0\n",
            "7191                           【謎解き】ヤミすぎ彼女からのメッセージ        0.0\n",
            "7192                                    Go!Go!Cat!        0.0\n",
            "7193   Suppin Detective: Expose their true visage!        0.0\n",
            "7194           みんなのお弁当 by クックパッド ~お弁当をレシピ付きで記録・共有~        0.0\n",
            "\n",
            "[7195 rows x 2 columns]\n"
          ]
        }
      ]
    },
    {
      "cell_type": "markdown",
      "source": [
        "Creating a function that makes a data of uniqe apps"
      ],
      "metadata": {
        "id": "DVwhsN-Q82UM"
      }
    },
    {
      "cell_type": "code",
      "source": [
        "def make_unique(data):\n",
        "  def convert_str_to_float(string):\n",
        "    if string[-1] == 'M':\n",
        "        return float(string[:-1]) * 1000000\n",
        "    else:\n",
        "        return float(string)\n",
        "\n",
        "  if data == android:\n",
        "    android_unique = []\n",
        "    android_already_added = []\n",
        "\n",
        "    for row in android:\n",
        "      app_id = row[0]\n",
        "      n_rev = convert_str_to_float(row[3])\n",
        "\n",
        "      if (android_rev_dict[app_id] == n_rev) and (app_id not in android_already_added):\n",
        "        android_unique.append(row)\n",
        "        android_already_added.append(app_id)\n",
        "    return android_unique\n",
        "\n",
        "  elif data == ios:\n",
        "    ios_unique = []\n",
        "    ios_already_added = []\n",
        "\n",
        "    for row in ios:\n",
        "      app_id = row[1]\n",
        "      n_rev = convert_str_to_float(row[5])\n",
        "\n",
        "      if (ios_rev_dict[app_id] == n_rev) and (app_id not in ios_already_added):\n",
        "        ios_unique.append(row)\n",
        "        ios_already_added.append(app_id)\n",
        "    return ios_unique\n",
        "\n",
        "\n"
      ],
      "metadata": {
        "id": "9dI8bZWu7bMD"
      },
      "execution_count": 175,
      "outputs": []
    },
    {
      "cell_type": "code",
      "source": [
        "android_unique= make_unique(android)\n",
        "ios_unique =make_unique(ios)"
      ],
      "metadata": {
        "id": "1X2-5NXT9z-5"
      },
      "execution_count": 176,
      "outputs": []
    },
    {
      "cell_type": "code",
      "source": [
        "explore_data_pandas(android_unique,0,3)"
      ],
      "metadata": {
        "colab": {
          "base_uri": "https://localhost:8080/",
          "height": 274
        },
        "id": "kDYJ_9XvD0SW",
        "outputId": "739bd0ff-aa81-4b9b-c598-3cc22e9780a4"
      },
      "execution_count": 177,
      "outputs": [
        {
          "output_type": "stream",
          "name": "stdout",
          "text": [
            "Number of rows: 9659\n",
            "Number of columns: 13\n"
          ]
        },
        {
          "output_type": "display_data",
          "data": {
            "text/plain": [
              "                                                  0               1    2   \\\n",
              "0     Photo Editor & Candy Camera & Grid & ScrapBook  ART_AND_DESIGN  4.1   \n",
              "1  U Launcher Lite – FREE Live Cool Themes, Hide ...  ART_AND_DESIGN  4.7   \n",
              "2                              Sketch - Draw & Paint  ART_AND_DESIGN  4.5   \n",
              "\n",
              "       3     4            5     6  7         8             9   \\\n",
              "0     159   19M      10,000+  Free  0  Everyone  Art & Design   \n",
              "1   87510  8.7M   5,000,000+  Free  0  Everyone  Art & Design   \n",
              "2  215644   25M  50,000,000+  Free  0      Teen  Art & Design   \n",
              "\n",
              "                10                  11            12  \n",
              "0  January 7, 2018               1.0.0  4.0.3 and up  \n",
              "1   August 1, 2018               1.2.4  4.0.3 and up  \n",
              "2     June 8, 2018  Varies with device    4.2 and up  "
            ],
            "text/html": [
              "\n",
              "  <div id=\"df-e7955d71-1b07-4b27-a66b-53d389d492fe\">\n",
              "    <div class=\"colab-df-container\">\n",
              "      <div>\n",
              "<style scoped>\n",
              "    .dataframe tbody tr th:only-of-type {\n",
              "        vertical-align: middle;\n",
              "    }\n",
              "\n",
              "    .dataframe tbody tr th {\n",
              "        vertical-align: top;\n",
              "    }\n",
              "\n",
              "    .dataframe thead th {\n",
              "        text-align: right;\n",
              "    }\n",
              "</style>\n",
              "<table border=\"1\" class=\"dataframe\">\n",
              "  <thead>\n",
              "    <tr style=\"text-align: right;\">\n",
              "      <th></th>\n",
              "      <th>0</th>\n",
              "      <th>1</th>\n",
              "      <th>2</th>\n",
              "      <th>3</th>\n",
              "      <th>4</th>\n",
              "      <th>5</th>\n",
              "      <th>6</th>\n",
              "      <th>7</th>\n",
              "      <th>8</th>\n",
              "      <th>9</th>\n",
              "      <th>10</th>\n",
              "      <th>11</th>\n",
              "      <th>12</th>\n",
              "    </tr>\n",
              "  </thead>\n",
              "  <tbody>\n",
              "    <tr>\n",
              "      <th>0</th>\n",
              "      <td>Photo Editor &amp; Candy Camera &amp; Grid &amp; ScrapBook</td>\n",
              "      <td>ART_AND_DESIGN</td>\n",
              "      <td>4.1</td>\n",
              "      <td>159</td>\n",
              "      <td>19M</td>\n",
              "      <td>10,000+</td>\n",
              "      <td>Free</td>\n",
              "      <td>0</td>\n",
              "      <td>Everyone</td>\n",
              "      <td>Art &amp; Design</td>\n",
              "      <td>January 7, 2018</td>\n",
              "      <td>1.0.0</td>\n",
              "      <td>4.0.3 and up</td>\n",
              "    </tr>\n",
              "    <tr>\n",
              "      <th>1</th>\n",
              "      <td>U Launcher Lite – FREE Live Cool Themes, Hide ...</td>\n",
              "      <td>ART_AND_DESIGN</td>\n",
              "      <td>4.7</td>\n",
              "      <td>87510</td>\n",
              "      <td>8.7M</td>\n",
              "      <td>5,000,000+</td>\n",
              "      <td>Free</td>\n",
              "      <td>0</td>\n",
              "      <td>Everyone</td>\n",
              "      <td>Art &amp; Design</td>\n",
              "      <td>August 1, 2018</td>\n",
              "      <td>1.2.4</td>\n",
              "      <td>4.0.3 and up</td>\n",
              "    </tr>\n",
              "    <tr>\n",
              "      <th>2</th>\n",
              "      <td>Sketch - Draw &amp; Paint</td>\n",
              "      <td>ART_AND_DESIGN</td>\n",
              "      <td>4.5</td>\n",
              "      <td>215644</td>\n",
              "      <td>25M</td>\n",
              "      <td>50,000,000+</td>\n",
              "      <td>Free</td>\n",
              "      <td>0</td>\n",
              "      <td>Teen</td>\n",
              "      <td>Art &amp; Design</td>\n",
              "      <td>June 8, 2018</td>\n",
              "      <td>Varies with device</td>\n",
              "      <td>4.2 and up</td>\n",
              "    </tr>\n",
              "  </tbody>\n",
              "</table>\n",
              "</div>\n",
              "      <button class=\"colab-df-convert\" onclick=\"convertToInteractive('df-e7955d71-1b07-4b27-a66b-53d389d492fe')\"\n",
              "              title=\"Convert this dataframe to an interactive table.\"\n",
              "              style=\"display:none;\">\n",
              "        \n",
              "  <svg xmlns=\"http://www.w3.org/2000/svg\" height=\"24px\"viewBox=\"0 0 24 24\"\n",
              "       width=\"24px\">\n",
              "    <path d=\"M0 0h24v24H0V0z\" fill=\"none\"/>\n",
              "    <path d=\"M18.56 5.44l.94 2.06.94-2.06 2.06-.94-2.06-.94-.94-2.06-.94 2.06-2.06.94zm-11 1L8.5 8.5l.94-2.06 2.06-.94-2.06-.94L8.5 2.5l-.94 2.06-2.06.94zm10 10l.94 2.06.94-2.06 2.06-.94-2.06-.94-.94-2.06-.94 2.06-2.06.94z\"/><path d=\"M17.41 7.96l-1.37-1.37c-.4-.4-.92-.59-1.43-.59-.52 0-1.04.2-1.43.59L10.3 9.45l-7.72 7.72c-.78.78-.78 2.05 0 2.83L4 21.41c.39.39.9.59 1.41.59.51 0 1.02-.2 1.41-.59l7.78-7.78 2.81-2.81c.8-.78.8-2.07 0-2.86zM5.41 20L4 18.59l7.72-7.72 1.47 1.35L5.41 20z\"/>\n",
              "  </svg>\n",
              "      </button>\n",
              "      \n",
              "  <style>\n",
              "    .colab-df-container {\n",
              "      display:flex;\n",
              "      flex-wrap:wrap;\n",
              "      gap: 12px;\n",
              "    }\n",
              "\n",
              "    .colab-df-convert {\n",
              "      background-color: #E8F0FE;\n",
              "      border: none;\n",
              "      border-radius: 50%;\n",
              "      cursor: pointer;\n",
              "      display: none;\n",
              "      fill: #1967D2;\n",
              "      height: 32px;\n",
              "      padding: 0 0 0 0;\n",
              "      width: 32px;\n",
              "    }\n",
              "\n",
              "    .colab-df-convert:hover {\n",
              "      background-color: #E2EBFA;\n",
              "      box-shadow: 0px 1px 2px rgba(60, 64, 67, 0.3), 0px 1px 3px 1px rgba(60, 64, 67, 0.15);\n",
              "      fill: #174EA6;\n",
              "    }\n",
              "\n",
              "    [theme=dark] .colab-df-convert {\n",
              "      background-color: #3B4455;\n",
              "      fill: #D2E3FC;\n",
              "    }\n",
              "\n",
              "    [theme=dark] .colab-df-convert:hover {\n",
              "      background-color: #434B5C;\n",
              "      box-shadow: 0px 1px 3px 1px rgba(0, 0, 0, 0.15);\n",
              "      filter: drop-shadow(0px 1px 2px rgba(0, 0, 0, 0.3));\n",
              "      fill: #FFFFFF;\n",
              "    }\n",
              "  </style>\n",
              "\n",
              "      <script>\n",
              "        const buttonEl =\n",
              "          document.querySelector('#df-e7955d71-1b07-4b27-a66b-53d389d492fe button.colab-df-convert');\n",
              "        buttonEl.style.display =\n",
              "          google.colab.kernel.accessAllowed ? 'block' : 'none';\n",
              "\n",
              "        async function convertToInteractive(key) {\n",
              "          const element = document.querySelector('#df-e7955d71-1b07-4b27-a66b-53d389d492fe');\n",
              "          const dataTable =\n",
              "            await google.colab.kernel.invokeFunction('convertToInteractive',\n",
              "                                                     [key], {});\n",
              "          if (!dataTable) return;\n",
              "\n",
              "          const docLinkHtml = 'Like what you see? Visit the ' +\n",
              "            '<a target=\"_blank\" href=https://colab.research.google.com/notebooks/data_table.ipynb>data table notebook</a>'\n",
              "            + ' to learn more about interactive tables.';\n",
              "          element.innerHTML = '';\n",
              "          dataTable['output_type'] = 'display_data';\n",
              "          await google.colab.output.renderOutput(dataTable, element);\n",
              "          const docLink = document.createElement('div');\n",
              "          docLink.innerHTML = docLinkHtml;\n",
              "          element.appendChild(docLink);\n",
              "        }\n",
              "      </script>\n",
              "    </div>\n",
              "  </div>\n",
              "  "
            ]
          },
          "metadata": {}
        }
      ]
    },
    {
      "cell_type": "code",
      "source": [
        "explore_data_pandas(ios_unique,0,3)"
      ],
      "metadata": {
        "colab": {
          "base_uri": "https://localhost:8080/",
          "height": 178
        },
        "id": "dAZdiDIvEPL-",
        "outputId": "3adc8386-87c0-435a-d1ba-eb5b87497b3b"
      },
      "execution_count": 178,
      "outputs": [
        {
          "output_type": "stream",
          "name": "stdout",
          "text": [
            "Number of rows: 7195\n",
            "Number of columns: 16\n"
          ]
        },
        {
          "output_type": "display_data",
          "data": {
            "text/plain": [
              "          0               1          2    3    4        5     6    7    8   \\\n",
              "0  284882215        Facebook  389879808  USD  0.0  2974676   212  3.5  3.5   \n",
              "1  389801252       Instagram  113954816  USD  0.0  2161558  1289  4.5  4.0   \n",
              "2  529479190  Clash of Clans  116476928  USD  0.0  2130805   579  4.5  4.5   \n",
              "\n",
              "        9    10                 11  12 13  14 15  \n",
              "0     95.0   4+  Social Networking  37  1  29  1  \n",
              "1    10.23  12+      Photo & Video  37  0  29  1  \n",
              "2  9.24.12   9+              Games  38  5  18  1  "
            ],
            "text/html": [
              "\n",
              "  <div id=\"df-d05cee7b-31e3-425d-9bdc-6f61157e194e\">\n",
              "    <div class=\"colab-df-container\">\n",
              "      <div>\n",
              "<style scoped>\n",
              "    .dataframe tbody tr th:only-of-type {\n",
              "        vertical-align: middle;\n",
              "    }\n",
              "\n",
              "    .dataframe tbody tr th {\n",
              "        vertical-align: top;\n",
              "    }\n",
              "\n",
              "    .dataframe thead th {\n",
              "        text-align: right;\n",
              "    }\n",
              "</style>\n",
              "<table border=\"1\" class=\"dataframe\">\n",
              "  <thead>\n",
              "    <tr style=\"text-align: right;\">\n",
              "      <th></th>\n",
              "      <th>0</th>\n",
              "      <th>1</th>\n",
              "      <th>2</th>\n",
              "      <th>3</th>\n",
              "      <th>4</th>\n",
              "      <th>5</th>\n",
              "      <th>6</th>\n",
              "      <th>7</th>\n",
              "      <th>8</th>\n",
              "      <th>9</th>\n",
              "      <th>10</th>\n",
              "      <th>11</th>\n",
              "      <th>12</th>\n",
              "      <th>13</th>\n",
              "      <th>14</th>\n",
              "      <th>15</th>\n",
              "    </tr>\n",
              "  </thead>\n",
              "  <tbody>\n",
              "    <tr>\n",
              "      <th>0</th>\n",
              "      <td>284882215</td>\n",
              "      <td>Facebook</td>\n",
              "      <td>389879808</td>\n",
              "      <td>USD</td>\n",
              "      <td>0.0</td>\n",
              "      <td>2974676</td>\n",
              "      <td>212</td>\n",
              "      <td>3.5</td>\n",
              "      <td>3.5</td>\n",
              "      <td>95.0</td>\n",
              "      <td>4+</td>\n",
              "      <td>Social Networking</td>\n",
              "      <td>37</td>\n",
              "      <td>1</td>\n",
              "      <td>29</td>\n",
              "      <td>1</td>\n",
              "    </tr>\n",
              "    <tr>\n",
              "      <th>1</th>\n",
              "      <td>389801252</td>\n",
              "      <td>Instagram</td>\n",
              "      <td>113954816</td>\n",
              "      <td>USD</td>\n",
              "      <td>0.0</td>\n",
              "      <td>2161558</td>\n",
              "      <td>1289</td>\n",
              "      <td>4.5</td>\n",
              "      <td>4.0</td>\n",
              "      <td>10.23</td>\n",
              "      <td>12+</td>\n",
              "      <td>Photo &amp; Video</td>\n",
              "      <td>37</td>\n",
              "      <td>0</td>\n",
              "      <td>29</td>\n",
              "      <td>1</td>\n",
              "    </tr>\n",
              "    <tr>\n",
              "      <th>2</th>\n",
              "      <td>529479190</td>\n",
              "      <td>Clash of Clans</td>\n",
              "      <td>116476928</td>\n",
              "      <td>USD</td>\n",
              "      <td>0.0</td>\n",
              "      <td>2130805</td>\n",
              "      <td>579</td>\n",
              "      <td>4.5</td>\n",
              "      <td>4.5</td>\n",
              "      <td>9.24.12</td>\n",
              "      <td>9+</td>\n",
              "      <td>Games</td>\n",
              "      <td>38</td>\n",
              "      <td>5</td>\n",
              "      <td>18</td>\n",
              "      <td>1</td>\n",
              "    </tr>\n",
              "  </tbody>\n",
              "</table>\n",
              "</div>\n",
              "      <button class=\"colab-df-convert\" onclick=\"convertToInteractive('df-d05cee7b-31e3-425d-9bdc-6f61157e194e')\"\n",
              "              title=\"Convert this dataframe to an interactive table.\"\n",
              "              style=\"display:none;\">\n",
              "        \n",
              "  <svg xmlns=\"http://www.w3.org/2000/svg\" height=\"24px\"viewBox=\"0 0 24 24\"\n",
              "       width=\"24px\">\n",
              "    <path d=\"M0 0h24v24H0V0z\" fill=\"none\"/>\n",
              "    <path d=\"M18.56 5.44l.94 2.06.94-2.06 2.06-.94-2.06-.94-.94-2.06-.94 2.06-2.06.94zm-11 1L8.5 8.5l.94-2.06 2.06-.94-2.06-.94L8.5 2.5l-.94 2.06-2.06.94zm10 10l.94 2.06.94-2.06 2.06-.94-2.06-.94-.94-2.06-.94 2.06-2.06.94z\"/><path d=\"M17.41 7.96l-1.37-1.37c-.4-.4-.92-.59-1.43-.59-.52 0-1.04.2-1.43.59L10.3 9.45l-7.72 7.72c-.78.78-.78 2.05 0 2.83L4 21.41c.39.39.9.59 1.41.59.51 0 1.02-.2 1.41-.59l7.78-7.78 2.81-2.81c.8-.78.8-2.07 0-2.86zM5.41 20L4 18.59l7.72-7.72 1.47 1.35L5.41 20z\"/>\n",
              "  </svg>\n",
              "      </button>\n",
              "      \n",
              "  <style>\n",
              "    .colab-df-container {\n",
              "      display:flex;\n",
              "      flex-wrap:wrap;\n",
              "      gap: 12px;\n",
              "    }\n",
              "\n",
              "    .colab-df-convert {\n",
              "      background-color: #E8F0FE;\n",
              "      border: none;\n",
              "      border-radius: 50%;\n",
              "      cursor: pointer;\n",
              "      display: none;\n",
              "      fill: #1967D2;\n",
              "      height: 32px;\n",
              "      padding: 0 0 0 0;\n",
              "      width: 32px;\n",
              "    }\n",
              "\n",
              "    .colab-df-convert:hover {\n",
              "      background-color: #E2EBFA;\n",
              "      box-shadow: 0px 1px 2px rgba(60, 64, 67, 0.3), 0px 1px 3px 1px rgba(60, 64, 67, 0.15);\n",
              "      fill: #174EA6;\n",
              "    }\n",
              "\n",
              "    [theme=dark] .colab-df-convert {\n",
              "      background-color: #3B4455;\n",
              "      fill: #D2E3FC;\n",
              "    }\n",
              "\n",
              "    [theme=dark] .colab-df-convert:hover {\n",
              "      background-color: #434B5C;\n",
              "      box-shadow: 0px 1px 3px 1px rgba(0, 0, 0, 0.15);\n",
              "      filter: drop-shadow(0px 1px 2px rgba(0, 0, 0, 0.3));\n",
              "      fill: #FFFFFF;\n",
              "    }\n",
              "  </style>\n",
              "\n",
              "      <script>\n",
              "        const buttonEl =\n",
              "          document.querySelector('#df-d05cee7b-31e3-425d-9bdc-6f61157e194e button.colab-df-convert');\n",
              "        buttonEl.style.display =\n",
              "          google.colab.kernel.accessAllowed ? 'block' : 'none';\n",
              "\n",
              "        async function convertToInteractive(key) {\n",
              "          const element = document.querySelector('#df-d05cee7b-31e3-425d-9bdc-6f61157e194e');\n",
              "          const dataTable =\n",
              "            await google.colab.kernel.invokeFunction('convertToInteractive',\n",
              "                                                     [key], {});\n",
              "          if (!dataTable) return;\n",
              "\n",
              "          const docLinkHtml = 'Like what you see? Visit the ' +\n",
              "            '<a target=\"_blank\" href=https://colab.research.google.com/notebooks/data_table.ipynb>data table notebook</a>'\n",
              "            + ' to learn more about interactive tables.';\n",
              "          element.innerHTML = '';\n",
              "          dataTable['output_type'] = 'display_data';\n",
              "          await google.colab.output.renderOutput(dataTable, element);\n",
              "          const docLink = document.createElement('div');\n",
              "          docLink.innerHTML = docLinkHtml;\n",
              "          element.appendChild(docLink);\n",
              "        }\n",
              "      </script>\n",
              "    </div>\n",
              "  </div>\n",
              "  "
            ]
          },
          "metadata": {}
        }
      ]
    },
    {
      "cell_type": "markdown",
      "source": [
        "Function that checks whether the word has no more than 3 non-English letters or signs (therfore if the App is for English users)"
      ],
      "metadata": {
        "id": "FUu5XZLvEnAc"
      }
    },
    {
      "cell_type": "code",
      "source": [
        "def is_english(name):\n",
        "  non_ascii = 0\n",
        "  for i in name:\n",
        "    if ord(i) > 127:\n",
        "      non_ascii += 1\n",
        "\n",
        "  if non_ascii > 3:\n",
        "    return False\n",
        "  else:\n",
        "    return True"
      ],
      "metadata": {
        "id": "_AWNqEpEEdxs"
      },
      "execution_count": 179,
      "outputs": []
    },
    {
      "cell_type": "markdown",
      "source": [
        "Function that creates data with apps for english users only"
      ],
      "metadata": {
        "id": "Kc4enKi_E_Dd"
      }
    },
    {
      "cell_type": "code",
      "source": [
        "def only_english(data):\n",
        "  if data == android_unique:\n",
        "    android_english = []\n",
        "\n",
        "    for row in android_unique:\n",
        "      app_name = row[0]\n",
        "      if is_english(app_name):\n",
        "        android_english.append(row)\n",
        "    return android_english\n",
        "\n",
        "  elif data == ios_unique:\n",
        "    ios_english = []\n",
        "\n",
        "    for row in ios_unique:\n",
        "      app_name = row[1]\n",
        "      if is_english(app_name):\n",
        "        ios_english.append(row)\n",
        "    return ios_english"
      ],
      "metadata": {
        "id": "cHTJXFHjE8L6"
      },
      "execution_count": 180,
      "outputs": []
    },
    {
      "cell_type": "code",
      "source": [
        "android_english = only_english(android_unique)\n",
        "ios_english = only_english(ios_unique)"
      ],
      "metadata": {
        "id": "3xLyn9lYFbTS"
      },
      "execution_count": 181,
      "outputs": []
    },
    {
      "cell_type": "code",
      "source": [
        "explore_data_pandas(ios_english, 0, 3)\n",
        "print(ios_header)"
      ],
      "metadata": {
        "colab": {
          "base_uri": "https://localhost:8080/",
          "height": 215
        },
        "id": "Hw2MWApwF3h8",
        "outputId": "16da811b-0653-4ac6-ed0e-cb43b5de2fe4"
      },
      "execution_count": 182,
      "outputs": [
        {
          "output_type": "stream",
          "name": "stdout",
          "text": [
            "Number of rows: 6181\n",
            "Number of columns: 16\n"
          ]
        },
        {
          "output_type": "display_data",
          "data": {
            "text/plain": [
              "          0               1          2    3    4        5     6    7    8   \\\n",
              "0  284882215        Facebook  389879808  USD  0.0  2974676   212  3.5  3.5   \n",
              "1  389801252       Instagram  113954816  USD  0.0  2161558  1289  4.5  4.0   \n",
              "2  529479190  Clash of Clans  116476928  USD  0.0  2130805   579  4.5  4.5   \n",
              "\n",
              "        9    10                 11  12 13  14 15  \n",
              "0     95.0   4+  Social Networking  37  1  29  1  \n",
              "1    10.23  12+      Photo & Video  37  0  29  1  \n",
              "2  9.24.12   9+              Games  38  5  18  1  "
            ],
            "text/html": [
              "\n",
              "  <div id=\"df-9063272d-cdd5-4737-943a-d791edb36c2e\">\n",
              "    <div class=\"colab-df-container\">\n",
              "      <div>\n",
              "<style scoped>\n",
              "    .dataframe tbody tr th:only-of-type {\n",
              "        vertical-align: middle;\n",
              "    }\n",
              "\n",
              "    .dataframe tbody tr th {\n",
              "        vertical-align: top;\n",
              "    }\n",
              "\n",
              "    .dataframe thead th {\n",
              "        text-align: right;\n",
              "    }\n",
              "</style>\n",
              "<table border=\"1\" class=\"dataframe\">\n",
              "  <thead>\n",
              "    <tr style=\"text-align: right;\">\n",
              "      <th></th>\n",
              "      <th>0</th>\n",
              "      <th>1</th>\n",
              "      <th>2</th>\n",
              "      <th>3</th>\n",
              "      <th>4</th>\n",
              "      <th>5</th>\n",
              "      <th>6</th>\n",
              "      <th>7</th>\n",
              "      <th>8</th>\n",
              "      <th>9</th>\n",
              "      <th>10</th>\n",
              "      <th>11</th>\n",
              "      <th>12</th>\n",
              "      <th>13</th>\n",
              "      <th>14</th>\n",
              "      <th>15</th>\n",
              "    </tr>\n",
              "  </thead>\n",
              "  <tbody>\n",
              "    <tr>\n",
              "      <th>0</th>\n",
              "      <td>284882215</td>\n",
              "      <td>Facebook</td>\n",
              "      <td>389879808</td>\n",
              "      <td>USD</td>\n",
              "      <td>0.0</td>\n",
              "      <td>2974676</td>\n",
              "      <td>212</td>\n",
              "      <td>3.5</td>\n",
              "      <td>3.5</td>\n",
              "      <td>95.0</td>\n",
              "      <td>4+</td>\n",
              "      <td>Social Networking</td>\n",
              "      <td>37</td>\n",
              "      <td>1</td>\n",
              "      <td>29</td>\n",
              "      <td>1</td>\n",
              "    </tr>\n",
              "    <tr>\n",
              "      <th>1</th>\n",
              "      <td>389801252</td>\n",
              "      <td>Instagram</td>\n",
              "      <td>113954816</td>\n",
              "      <td>USD</td>\n",
              "      <td>0.0</td>\n",
              "      <td>2161558</td>\n",
              "      <td>1289</td>\n",
              "      <td>4.5</td>\n",
              "      <td>4.0</td>\n",
              "      <td>10.23</td>\n",
              "      <td>12+</td>\n",
              "      <td>Photo &amp; Video</td>\n",
              "      <td>37</td>\n",
              "      <td>0</td>\n",
              "      <td>29</td>\n",
              "      <td>1</td>\n",
              "    </tr>\n",
              "    <tr>\n",
              "      <th>2</th>\n",
              "      <td>529479190</td>\n",
              "      <td>Clash of Clans</td>\n",
              "      <td>116476928</td>\n",
              "      <td>USD</td>\n",
              "      <td>0.0</td>\n",
              "      <td>2130805</td>\n",
              "      <td>579</td>\n",
              "      <td>4.5</td>\n",
              "      <td>4.5</td>\n",
              "      <td>9.24.12</td>\n",
              "      <td>9+</td>\n",
              "      <td>Games</td>\n",
              "      <td>38</td>\n",
              "      <td>5</td>\n",
              "      <td>18</td>\n",
              "      <td>1</td>\n",
              "    </tr>\n",
              "  </tbody>\n",
              "</table>\n",
              "</div>\n",
              "      <button class=\"colab-df-convert\" onclick=\"convertToInteractive('df-9063272d-cdd5-4737-943a-d791edb36c2e')\"\n",
              "              title=\"Convert this dataframe to an interactive table.\"\n",
              "              style=\"display:none;\">\n",
              "        \n",
              "  <svg xmlns=\"http://www.w3.org/2000/svg\" height=\"24px\"viewBox=\"0 0 24 24\"\n",
              "       width=\"24px\">\n",
              "    <path d=\"M0 0h24v24H0V0z\" fill=\"none\"/>\n",
              "    <path d=\"M18.56 5.44l.94 2.06.94-2.06 2.06-.94-2.06-.94-.94-2.06-.94 2.06-2.06.94zm-11 1L8.5 8.5l.94-2.06 2.06-.94-2.06-.94L8.5 2.5l-.94 2.06-2.06.94zm10 10l.94 2.06.94-2.06 2.06-.94-2.06-.94-.94-2.06-.94 2.06-2.06.94z\"/><path d=\"M17.41 7.96l-1.37-1.37c-.4-.4-.92-.59-1.43-.59-.52 0-1.04.2-1.43.59L10.3 9.45l-7.72 7.72c-.78.78-.78 2.05 0 2.83L4 21.41c.39.39.9.59 1.41.59.51 0 1.02-.2 1.41-.59l7.78-7.78 2.81-2.81c.8-.78.8-2.07 0-2.86zM5.41 20L4 18.59l7.72-7.72 1.47 1.35L5.41 20z\"/>\n",
              "  </svg>\n",
              "      </button>\n",
              "      \n",
              "  <style>\n",
              "    .colab-df-container {\n",
              "      display:flex;\n",
              "      flex-wrap:wrap;\n",
              "      gap: 12px;\n",
              "    }\n",
              "\n",
              "    .colab-df-convert {\n",
              "      background-color: #E8F0FE;\n",
              "      border: none;\n",
              "      border-radius: 50%;\n",
              "      cursor: pointer;\n",
              "      display: none;\n",
              "      fill: #1967D2;\n",
              "      height: 32px;\n",
              "      padding: 0 0 0 0;\n",
              "      width: 32px;\n",
              "    }\n",
              "\n",
              "    .colab-df-convert:hover {\n",
              "      background-color: #E2EBFA;\n",
              "      box-shadow: 0px 1px 2px rgba(60, 64, 67, 0.3), 0px 1px 3px 1px rgba(60, 64, 67, 0.15);\n",
              "      fill: #174EA6;\n",
              "    }\n",
              "\n",
              "    [theme=dark] .colab-df-convert {\n",
              "      background-color: #3B4455;\n",
              "      fill: #D2E3FC;\n",
              "    }\n",
              "\n",
              "    [theme=dark] .colab-df-convert:hover {\n",
              "      background-color: #434B5C;\n",
              "      box-shadow: 0px 1px 3px 1px rgba(0, 0, 0, 0.15);\n",
              "      filter: drop-shadow(0px 1px 2px rgba(0, 0, 0, 0.3));\n",
              "      fill: #FFFFFF;\n",
              "    }\n",
              "  </style>\n",
              "\n",
              "      <script>\n",
              "        const buttonEl =\n",
              "          document.querySelector('#df-9063272d-cdd5-4737-943a-d791edb36c2e button.colab-df-convert');\n",
              "        buttonEl.style.display =\n",
              "          google.colab.kernel.accessAllowed ? 'block' : 'none';\n",
              "\n",
              "        async function convertToInteractive(key) {\n",
              "          const element = document.querySelector('#df-9063272d-cdd5-4737-943a-d791edb36c2e');\n",
              "          const dataTable =\n",
              "            await google.colab.kernel.invokeFunction('convertToInteractive',\n",
              "                                                     [key], {});\n",
              "          if (!dataTable) return;\n",
              "\n",
              "          const docLinkHtml = 'Like what you see? Visit the ' +\n",
              "            '<a target=\"_blank\" href=https://colab.research.google.com/notebooks/data_table.ipynb>data table notebook</a>'\n",
              "            + ' to learn more about interactive tables.';\n",
              "          element.innerHTML = '';\n",
              "          dataTable['output_type'] = 'display_data';\n",
              "          await google.colab.output.renderOutput(dataTable, element);\n",
              "          const docLink = document.createElement('div');\n",
              "          docLink.innerHTML = docLinkHtml;\n",
              "          element.appendChild(docLink);\n",
              "        }\n",
              "      </script>\n",
              "    </div>\n",
              "  </div>\n",
              "  "
            ]
          },
          "metadata": {}
        },
        {
          "output_type": "stream",
          "name": "stdout",
          "text": [
            "['id', 'track_name', 'size_bytes', 'currency', 'price', 'rating_count_tot', 'rating_count_ver', 'user_rating', 'user_rating_ver', 'ver', 'cont_rating', 'prime_genre', 'sup_devices.num', 'ipadSc_urls.num', 'lang.num', 'vpp_lic']\n"
          ]
        }
      ]
    },
    {
      "cell_type": "markdown",
      "source": [
        "Function that creates data with free-apps only"
      ],
      "metadata": {
        "id": "5JqRmG84GWth"
      }
    },
    {
      "cell_type": "code",
      "source": [
        "def free_apps(data):\n",
        "  if data == android_english:\n",
        "    android_free = []\n",
        "\n",
        "    for row in data:\n",
        "      app_price = row[7]\n",
        "      if app_price == '0':\n",
        "        android_free.append(row)\n",
        "    return android_free\n",
        "\n",
        "  elif data == ios_english:\n",
        "    ios_free = []\n",
        "\n",
        "    for row in data:\n",
        "      app_price = row[4]\n",
        "\n",
        "      if app_price == '0.0':\n",
        "        ios_free.append(row)\n",
        "    return ios_free"
      ],
      "metadata": {
        "id": "v2lCz2dnGP0s"
      },
      "execution_count": 183,
      "outputs": []
    },
    {
      "cell_type": "code",
      "source": [
        "android_free = free_apps(android_english)\n",
        "ios_free = free_apps(ios_english)"
      ],
      "metadata": {
        "id": "-5YRRmOVGriH"
      },
      "execution_count": 184,
      "outputs": []
    },
    {
      "cell_type": "code",
      "source": [
        "explore_data_pandas(ios_free, 0, 3)"
      ],
      "metadata": {
        "colab": {
          "base_uri": "https://localhost:8080/",
          "height": 178
        },
        "id": "WMMg_9CTJMnY",
        "outputId": "d4d7f32f-5719-49b1-eb27-3bafdaa32a25"
      },
      "execution_count": 185,
      "outputs": [
        {
          "output_type": "stream",
          "name": "stdout",
          "text": [
            "Number of rows: 3220\n",
            "Number of columns: 16\n"
          ]
        },
        {
          "output_type": "display_data",
          "data": {
            "text/plain": [
              "          0               1          2    3    4        5     6    7    8   \\\n",
              "0  284882215        Facebook  389879808  USD  0.0  2974676   212  3.5  3.5   \n",
              "1  389801252       Instagram  113954816  USD  0.0  2161558  1289  4.5  4.0   \n",
              "2  529479190  Clash of Clans  116476928  USD  0.0  2130805   579  4.5  4.5   \n",
              "\n",
              "        9    10                 11  12 13  14 15  \n",
              "0     95.0   4+  Social Networking  37  1  29  1  \n",
              "1    10.23  12+      Photo & Video  37  0  29  1  \n",
              "2  9.24.12   9+              Games  38  5  18  1  "
            ],
            "text/html": [
              "\n",
              "  <div id=\"df-aa4ebf90-6b97-4617-9899-4edda8c53cc6\">\n",
              "    <div class=\"colab-df-container\">\n",
              "      <div>\n",
              "<style scoped>\n",
              "    .dataframe tbody tr th:only-of-type {\n",
              "        vertical-align: middle;\n",
              "    }\n",
              "\n",
              "    .dataframe tbody tr th {\n",
              "        vertical-align: top;\n",
              "    }\n",
              "\n",
              "    .dataframe thead th {\n",
              "        text-align: right;\n",
              "    }\n",
              "</style>\n",
              "<table border=\"1\" class=\"dataframe\">\n",
              "  <thead>\n",
              "    <tr style=\"text-align: right;\">\n",
              "      <th></th>\n",
              "      <th>0</th>\n",
              "      <th>1</th>\n",
              "      <th>2</th>\n",
              "      <th>3</th>\n",
              "      <th>4</th>\n",
              "      <th>5</th>\n",
              "      <th>6</th>\n",
              "      <th>7</th>\n",
              "      <th>8</th>\n",
              "      <th>9</th>\n",
              "      <th>10</th>\n",
              "      <th>11</th>\n",
              "      <th>12</th>\n",
              "      <th>13</th>\n",
              "      <th>14</th>\n",
              "      <th>15</th>\n",
              "    </tr>\n",
              "  </thead>\n",
              "  <tbody>\n",
              "    <tr>\n",
              "      <th>0</th>\n",
              "      <td>284882215</td>\n",
              "      <td>Facebook</td>\n",
              "      <td>389879808</td>\n",
              "      <td>USD</td>\n",
              "      <td>0.0</td>\n",
              "      <td>2974676</td>\n",
              "      <td>212</td>\n",
              "      <td>3.5</td>\n",
              "      <td>3.5</td>\n",
              "      <td>95.0</td>\n",
              "      <td>4+</td>\n",
              "      <td>Social Networking</td>\n",
              "      <td>37</td>\n",
              "      <td>1</td>\n",
              "      <td>29</td>\n",
              "      <td>1</td>\n",
              "    </tr>\n",
              "    <tr>\n",
              "      <th>1</th>\n",
              "      <td>389801252</td>\n",
              "      <td>Instagram</td>\n",
              "      <td>113954816</td>\n",
              "      <td>USD</td>\n",
              "      <td>0.0</td>\n",
              "      <td>2161558</td>\n",
              "      <td>1289</td>\n",
              "      <td>4.5</td>\n",
              "      <td>4.0</td>\n",
              "      <td>10.23</td>\n",
              "      <td>12+</td>\n",
              "      <td>Photo &amp; Video</td>\n",
              "      <td>37</td>\n",
              "      <td>0</td>\n",
              "      <td>29</td>\n",
              "      <td>1</td>\n",
              "    </tr>\n",
              "    <tr>\n",
              "      <th>2</th>\n",
              "      <td>529479190</td>\n",
              "      <td>Clash of Clans</td>\n",
              "      <td>116476928</td>\n",
              "      <td>USD</td>\n",
              "      <td>0.0</td>\n",
              "      <td>2130805</td>\n",
              "      <td>579</td>\n",
              "      <td>4.5</td>\n",
              "      <td>4.5</td>\n",
              "      <td>9.24.12</td>\n",
              "      <td>9+</td>\n",
              "      <td>Games</td>\n",
              "      <td>38</td>\n",
              "      <td>5</td>\n",
              "      <td>18</td>\n",
              "      <td>1</td>\n",
              "    </tr>\n",
              "  </tbody>\n",
              "</table>\n",
              "</div>\n",
              "      <button class=\"colab-df-convert\" onclick=\"convertToInteractive('df-aa4ebf90-6b97-4617-9899-4edda8c53cc6')\"\n",
              "              title=\"Convert this dataframe to an interactive table.\"\n",
              "              style=\"display:none;\">\n",
              "        \n",
              "  <svg xmlns=\"http://www.w3.org/2000/svg\" height=\"24px\"viewBox=\"0 0 24 24\"\n",
              "       width=\"24px\">\n",
              "    <path d=\"M0 0h24v24H0V0z\" fill=\"none\"/>\n",
              "    <path d=\"M18.56 5.44l.94 2.06.94-2.06 2.06-.94-2.06-.94-.94-2.06-.94 2.06-2.06.94zm-11 1L8.5 8.5l.94-2.06 2.06-.94-2.06-.94L8.5 2.5l-.94 2.06-2.06.94zm10 10l.94 2.06.94-2.06 2.06-.94-2.06-.94-.94-2.06-.94 2.06-2.06.94z\"/><path d=\"M17.41 7.96l-1.37-1.37c-.4-.4-.92-.59-1.43-.59-.52 0-1.04.2-1.43.59L10.3 9.45l-7.72 7.72c-.78.78-.78 2.05 0 2.83L4 21.41c.39.39.9.59 1.41.59.51 0 1.02-.2 1.41-.59l7.78-7.78 2.81-2.81c.8-.78.8-2.07 0-2.86zM5.41 20L4 18.59l7.72-7.72 1.47 1.35L5.41 20z\"/>\n",
              "  </svg>\n",
              "      </button>\n",
              "      \n",
              "  <style>\n",
              "    .colab-df-container {\n",
              "      display:flex;\n",
              "      flex-wrap:wrap;\n",
              "      gap: 12px;\n",
              "    }\n",
              "\n",
              "    .colab-df-convert {\n",
              "      background-color: #E8F0FE;\n",
              "      border: none;\n",
              "      border-radius: 50%;\n",
              "      cursor: pointer;\n",
              "      display: none;\n",
              "      fill: #1967D2;\n",
              "      height: 32px;\n",
              "      padding: 0 0 0 0;\n",
              "      width: 32px;\n",
              "    }\n",
              "\n",
              "    .colab-df-convert:hover {\n",
              "      background-color: #E2EBFA;\n",
              "      box-shadow: 0px 1px 2px rgba(60, 64, 67, 0.3), 0px 1px 3px 1px rgba(60, 64, 67, 0.15);\n",
              "      fill: #174EA6;\n",
              "    }\n",
              "\n",
              "    [theme=dark] .colab-df-convert {\n",
              "      background-color: #3B4455;\n",
              "      fill: #D2E3FC;\n",
              "    }\n",
              "\n",
              "    [theme=dark] .colab-df-convert:hover {\n",
              "      background-color: #434B5C;\n",
              "      box-shadow: 0px 1px 3px 1px rgba(0, 0, 0, 0.15);\n",
              "      filter: drop-shadow(0px 1px 2px rgba(0, 0, 0, 0.3));\n",
              "      fill: #FFFFFF;\n",
              "    }\n",
              "  </style>\n",
              "\n",
              "      <script>\n",
              "        const buttonEl =\n",
              "          document.querySelector('#df-aa4ebf90-6b97-4617-9899-4edda8c53cc6 button.colab-df-convert');\n",
              "        buttonEl.style.display =\n",
              "          google.colab.kernel.accessAllowed ? 'block' : 'none';\n",
              "\n",
              "        async function convertToInteractive(key) {\n",
              "          const element = document.querySelector('#df-aa4ebf90-6b97-4617-9899-4edda8c53cc6');\n",
              "          const dataTable =\n",
              "            await google.colab.kernel.invokeFunction('convertToInteractive',\n",
              "                                                     [key], {});\n",
              "          if (!dataTable) return;\n",
              "\n",
              "          const docLinkHtml = 'Like what you see? Visit the ' +\n",
              "            '<a target=\"_blank\" href=https://colab.research.google.com/notebooks/data_table.ipynb>data table notebook</a>'\n",
              "            + ' to learn more about interactive tables.';\n",
              "          element.innerHTML = '';\n",
              "          dataTable['output_type'] = 'display_data';\n",
              "          await google.colab.output.renderOutput(dataTable, element);\n",
              "          const docLink = document.createElement('div');\n",
              "          docLink.innerHTML = docLinkHtml;\n",
              "          element.appendChild(docLink);\n",
              "        }\n",
              "      </script>\n",
              "    </div>\n",
              "  </div>\n",
              "  "
            ]
          },
          "metadata": {}
        }
      ]
    },
    {
      "cell_type": "markdown",
      "source": [
        "Our goal is to determine the kinds of apps that are likely to attract more users because the number of people using our apps affect our revenue.\n",
        "\n",
        "To minimize risks and overhead, our validation strategy for an app idea has three steps:\n",
        "\n",
        "Build a minimal Android version of the app, and add it to Google Play.\n",
        "If the app has a good response from users, we develop it further.\n",
        "If the app is profitable after six months, we build an iOS version of the app and add it to the App Store.\n",
        "Because our end goal is to add the app on both Google Play and the App Store, we need to find app profiles that are successful in both markets. For instance, a profile that works well for both markets might be a productivity app that makes use of gamification."
      ],
      "metadata": {
        "id": "77QN7N1jJvpB"
      }
    },
    {
      "cell_type": "markdown",
      "source": [
        "Function that creates freq tables for any column we want"
      ],
      "metadata": {
        "id": "hFKIlO6pJynN"
      }
    },
    {
      "cell_type": "code",
      "source": [
        "def freq_table(data, index):\n",
        "  table = {}\n",
        "  total = 0\n",
        "\n",
        "  for row in data:\n",
        "    column = row[index]\n",
        "    total += 1\n",
        "    if column in table:\n",
        "      table[column] += 1\n",
        "    else:\n",
        "      table[column] = 1\n",
        "\n",
        "  table_perc = {}\n",
        "\n",
        "  for i in table:\n",
        "    perc = (table[i]/total) * 100\n",
        "    table_perc[i] = perc\n",
        "\n",
        "  return table_perc"
      ],
      "metadata": {
        "id": "bkl8JGBPJPhp"
      },
      "execution_count": 186,
      "outputs": []
    },
    {
      "cell_type": "markdown",
      "source": [
        "Function that sorts freq table "
      ],
      "metadata": {
        "id": "fRU4JzIfMRrH"
      }
    },
    {
      "cell_type": "code",
      "source": [
        "def display_table(data, index):\n",
        "  table = freq_table(data, index)\n",
        "  table_display = []\n",
        "\n",
        "  for i in table:\n",
        "    as_tuple = (table[i], i)\n",
        "    table_display.append(as_tuple)\n",
        "\n",
        "  table_sorted = sorted(table_display, reverse=True)\n",
        "  for entry in table_sorted:\n",
        "    print(entry[1], ':', entry [0])"
      ],
      "metadata": {
        "id": "sYyoah4rMmXZ"
      },
      "execution_count": 187,
      "outputs": []
    },
    {
      "cell_type": "code",
      "source": [
        "print(ios_header)"
      ],
      "metadata": {
        "colab": {
          "base_uri": "https://localhost:8080/"
        },
        "id": "hjZ0bLakKmCy",
        "outputId": "7ed01925-c68c-4636-fe53-2c4b2a1ce8f7"
      },
      "execution_count": 188,
      "outputs": [
        {
          "output_type": "stream",
          "name": "stdout",
          "text": [
            "['id', 'track_name', 'size_bytes', 'currency', 'price', 'rating_count_tot', 'rating_count_ver', 'user_rating', 'user_rating_ver', 'ver', 'cont_rating', 'prime_genre', 'sup_devices.num', 'ipadSc_urls.num', 'lang.num', 'vpp_lic']\n"
          ]
        }
      ]
    },
    {
      "cell_type": "code",
      "source": [
        "Android_Genres = display_table(android_free, 9)"
      ],
      "metadata": {
        "colab": {
          "base_uri": "https://localhost:8080/"
        },
        "id": "i6Kn09ywMKVl",
        "outputId": "3960d5f3-df4a-40db-c5a4-65e8708a1557"
      },
      "execution_count": 189,
      "outputs": [
        {
          "output_type": "stream",
          "name": "stdout",
          "text": [
            "Tools : 8.449909747292418\n",
            "Entertainment : 6.069494584837545\n",
            "Education : 5.347472924187725\n",
            "Business : 4.591606498194946\n",
            "Productivity : 3.892148014440433\n",
            "Lifestyle : 3.892148014440433\n",
            "Finance : 3.7003610108303246\n",
            "Medical : 3.531137184115524\n",
            "Sports : 3.463447653429603\n",
            "Personalization : 3.3167870036101084\n",
            "Communication : 3.2378158844765346\n",
            "Action : 3.1024368231046933\n",
            "Health & Fitness : 3.0798736462093865\n",
            "Photography : 2.944494584837545\n",
            "News & Magazines : 2.7978339350180503\n",
            "Social : 2.6624548736462095\n",
            "Travel & Local : 2.3240072202166067\n",
            "Shopping : 2.2450361010830324\n",
            "Books & Reference : 2.1435018050541514\n",
            "Simulation : 2.0419675090252705\n",
            "Dating : 1.861462093862816\n",
            "Arcade : 1.8501805054151623\n",
            "Video Players & Editors : 1.7712093862815883\n",
            "Casual : 1.7599277978339352\n",
            "Maps & Navigation : 1.3989169675090252\n",
            "Food & Drink : 1.2409747292418771\n",
            "Puzzle : 1.128158844765343\n",
            "Racing : 0.9927797833935018\n",
            "Role Playing : 0.9363718411552346\n",
            "Libraries & Demo : 0.9363718411552346\n",
            "Auto & Vehicles : 0.9250902527075812\n",
            "Strategy : 0.9138086642599278\n",
            "House & Home : 0.8235559566787004\n",
            "Weather : 0.8009927797833934\n",
            "Events : 0.7107400722021661\n",
            "Adventure : 0.6768953068592057\n",
            "Comics : 0.6092057761732852\n",
            "Beauty : 0.5979241877256317\n",
            "Art & Design : 0.5979241877256317\n",
            "Parenting : 0.4963898916967509\n",
            "Card : 0.45126353790613716\n",
            "Casino : 0.42870036101083037\n",
            "Trivia : 0.41741877256317694\n",
            "Educational;Education : 0.39485559566787\n",
            "Board : 0.3835740072202166\n",
            "Educational : 0.3722924187725632\n",
            "Education;Education : 0.33844765342960287\n",
            "Word : 0.2594765342960289\n",
            "Casual;Pretend Play : 0.236913357400722\n",
            "Music : 0.2030685920577617\n",
            "Racing;Action & Adventure : 0.16922382671480143\n",
            "Puzzle;Brain Games : 0.16922382671480143\n",
            "Entertainment;Music & Video : 0.16922382671480143\n",
            "Casual;Brain Games : 0.13537906137184114\n",
            "Casual;Action & Adventure : 0.13537906137184114\n",
            "Arcade;Action & Adventure : 0.12409747292418773\n",
            "Action;Action & Adventure : 0.10153429602888085\n",
            "Educational;Pretend Play : 0.09025270758122744\n",
            "Simulation;Action & Adventure : 0.078971119133574\n",
            "Parenting;Education : 0.078971119133574\n",
            "Entertainment;Brain Games : 0.078971119133574\n",
            "Board;Brain Games : 0.078971119133574\n",
            "Parenting;Music & Video : 0.06768953068592057\n",
            "Educational;Brain Games : 0.06768953068592057\n",
            "Casual;Creativity : 0.06768953068592057\n",
            "Art & Design;Creativity : 0.06768953068592057\n",
            "Education;Pretend Play : 0.056407942238267145\n",
            "Role Playing;Pretend Play : 0.04512635379061372\n",
            "Education;Creativity : 0.04512635379061372\n",
            "Role Playing;Action & Adventure : 0.033844765342960284\n",
            "Puzzle;Action & Adventure : 0.033844765342960284\n",
            "Entertainment;Creativity : 0.033844765342960284\n",
            "Entertainment;Action & Adventure : 0.033844765342960284\n",
            "Educational;Creativity : 0.033844765342960284\n",
            "Educational;Action & Adventure : 0.033844765342960284\n",
            "Education;Music & Video : 0.033844765342960284\n",
            "Education;Brain Games : 0.033844765342960284\n",
            "Education;Action & Adventure : 0.033844765342960284\n",
            "Adventure;Action & Adventure : 0.033844765342960284\n",
            "Video Players & Editors;Music & Video : 0.02256317689530686\n",
            "Sports;Action & Adventure : 0.02256317689530686\n",
            "Simulation;Pretend Play : 0.02256317689530686\n",
            "Puzzle;Creativity : 0.02256317689530686\n",
            "Music;Music & Video : 0.02256317689530686\n",
            "Entertainment;Pretend Play : 0.02256317689530686\n",
            "Casual;Education : 0.02256317689530686\n",
            "Board;Action & Adventure : 0.02256317689530686\n",
            "Video Players & Editors;Creativity : 0.01128158844765343\n",
            "Trivia;Education : 0.01128158844765343\n",
            "Travel & Local;Action & Adventure : 0.01128158844765343\n",
            "Tools;Education : 0.01128158844765343\n",
            "Strategy;Education : 0.01128158844765343\n",
            "Strategy;Creativity : 0.01128158844765343\n",
            "Strategy;Action & Adventure : 0.01128158844765343\n",
            "Simulation;Education : 0.01128158844765343\n",
            "Role Playing;Brain Games : 0.01128158844765343\n",
            "Racing;Pretend Play : 0.01128158844765343\n",
            "Puzzle;Education : 0.01128158844765343\n",
            "Parenting;Brain Games : 0.01128158844765343\n",
            "Music & Audio;Music & Video : 0.01128158844765343\n",
            "Lifestyle;Pretend Play : 0.01128158844765343\n",
            "Lifestyle;Education : 0.01128158844765343\n",
            "Health & Fitness;Education : 0.01128158844765343\n",
            "Health & Fitness;Action & Adventure : 0.01128158844765343\n",
            "Entertainment;Education : 0.01128158844765343\n",
            "Communication;Creativity : 0.01128158844765343\n",
            "Comics;Creativity : 0.01128158844765343\n",
            "Casual;Music & Video : 0.01128158844765343\n",
            "Card;Action & Adventure : 0.01128158844765343\n",
            "Books & Reference;Education : 0.01128158844765343\n",
            "Art & Design;Pretend Play : 0.01128158844765343\n",
            "Art & Design;Action & Adventure : 0.01128158844765343\n",
            "Arcade;Pretend Play : 0.01128158844765343\n",
            "Adventure;Education : 0.01128158844765343\n"
          ]
        }
      ]
    },
    {
      "cell_type": "code",
      "source": [
        "Ios_Genres = display_table(ios_free, -5)"
      ],
      "metadata": {
        "colab": {
          "base_uri": "https://localhost:8080/"
        },
        "id": "oPGd-oJVNJZm",
        "outputId": "b08c6e25-4b5d-4cfb-be4b-c35638ac33d7"
      },
      "execution_count": 190,
      "outputs": [
        {
          "output_type": "stream",
          "name": "stdout",
          "text": [
            "Games : 58.13664596273293\n",
            "Entertainment : 7.888198757763975\n",
            "Photo & Video : 4.968944099378882\n",
            "Education : 3.6645962732919255\n",
            "Social Networking : 3.291925465838509\n",
            "Shopping : 2.608695652173913\n",
            "Utilities : 2.515527950310559\n",
            "Sports : 2.142857142857143\n",
            "Music : 2.049689440993789\n",
            "Health & Fitness : 2.018633540372671\n",
            "Productivity : 1.7391304347826086\n",
            "Lifestyle : 1.5838509316770186\n",
            "News : 1.3354037267080745\n",
            "Travel : 1.2422360248447204\n",
            "Finance : 1.1180124223602486\n",
            "Weather : 0.8695652173913043\n",
            "Food & Drink : 0.8074534161490683\n",
            "Reference : 0.5590062111801243\n",
            "Business : 0.5279503105590062\n",
            "Book : 0.43478260869565216\n",
            "Navigation : 0.18633540372670807\n",
            "Medical : 0.18633540372670807\n",
            "Catalogs : 0.12422360248447205\n"
          ]
        }
      ]
    },
    {
      "cell_type": "markdown",
      "source": [
        "Function that calculates and displays the average number of user ratings for each iOS app genre in the ios_free dataset."
      ],
      "metadata": {
        "id": "RrSEa8aqdNo7"
      }
    },
    {
      "cell_type": "code",
      "source": [
        "Ios_Freq_Genre = freq_table(ios_free, -5)\n",
        "for row in Ios_Freq_Genre:\n",
        "  total = 0\n",
        "  len_genre = 0\n",
        "\n",
        "  for app in ios_free:\n",
        "    genre_app = app[-5]\n",
        "    if genre_app == row:\n",
        "      n_ratings = float(app[5])\n",
        "      total += n_ratings\n",
        "      len_genre += 1\n",
        "  avg_n_ratings = total/ len_genre\n",
        "  print(row, ':', avg_n_ratings)"
      ],
      "metadata": {
        "colab": {
          "base_uri": "https://localhost:8080/"
        },
        "id": "eJkn5PvQcS9F",
        "outputId": "d9bca6f6-fcb6-4292-9b85-bef89db53744"
      },
      "execution_count": 191,
      "outputs": [
        {
          "output_type": "stream",
          "name": "stdout",
          "text": [
            "Social Networking : 71548.34905660378\n",
            "Photo & Video : 28441.54375\n",
            "Games : 22812.92467948718\n",
            "Music : 57326.530303030304\n",
            "Reference : 74942.11111111111\n",
            "Health & Fitness : 23298.015384615384\n",
            "Weather : 52279.892857142855\n",
            "Utilities : 18684.456790123455\n",
            "Travel : 28243.8\n",
            "Shopping : 26919.690476190477\n",
            "News : 21248.023255813954\n",
            "Navigation : 86090.33333333333\n",
            "Lifestyle : 16485.764705882353\n",
            "Entertainment : 14029.830708661417\n",
            "Food & Drink : 33333.92307692308\n",
            "Sports : 23008.898550724636\n",
            "Book : 39758.5\n",
            "Finance : 31467.944444444445\n",
            "Education : 7003.983050847458\n",
            "Productivity : 21028.410714285714\n",
            "Business : 7491.117647058823\n",
            "Catalogs : 4004.0\n",
            "Medical : 612.0\n"
          ]
        }
      ]
    },
    {
      "cell_type": "code",
      "source": [
        "for app in ios_free:\n",
        "  if app[-5] == 'Navigation':\n",
        "    print(app[1], ':', app[5])"
      ],
      "metadata": {
        "colab": {
          "base_uri": "https://localhost:8080/"
        },
        "id": "A6VvD7UcdH5f",
        "outputId": "566335a9-a8f9-4e78-adc0-bd59585f61d4"
      },
      "execution_count": 192,
      "outputs": [
        {
          "output_type": "stream",
          "name": "stdout",
          "text": [
            "Waze - GPS Navigation, Maps & Real-time Traffic : 345046\n",
            "Google Maps - Navigation & Transit : 154911\n",
            "Geocaching® : 12811\n",
            "CoPilot GPS – Car Navigation & Offline Maps : 3582\n",
            "ImmobilienScout24: Real Estate Search in Germany : 187\n",
            "Railway Route Search : 5\n"
          ]
        }
      ]
    },
    {
      "cell_type": "code",
      "source": [
        "for app in ios_free:\n",
        "    if app[-5] == 'Reference':\n",
        "        print(app[1], ':', app[5])"
      ],
      "metadata": {
        "colab": {
          "base_uri": "https://localhost:8080/"
        },
        "id": "wDAD5H9CdrYc",
        "outputId": "ecff86b9-e83c-44f7-da18-723262c4362b"
      },
      "execution_count": 193,
      "outputs": [
        {
          "output_type": "stream",
          "name": "stdout",
          "text": [
            "Bible : 985920\n",
            "Dictionary.com Dictionary & Thesaurus : 200047\n",
            "Dictionary.com Dictionary & Thesaurus for iPad : 54175\n",
            "Google Translate : 26786\n",
            "Muslim Pro: Ramadan 2017 Prayer Times, Azan, Quran : 18418\n",
            "New Furniture Mods - Pocket Wiki & Game Tools for Minecraft PC Edition : 17588\n",
            "Merriam-Webster Dictionary : 16849\n",
            "Night Sky : 12122\n",
            "City Maps for Minecraft PE - The Best Maps for Minecraft Pocket Edition (MCPE) : 8535\n",
            "LUCKY BLOCK MOD ™ for Minecraft PC Edition - The Best Pocket Wiki & Mods Installer Tools : 4693\n",
            "GUNS MODS for Minecraft PC Edition - Mods Tools : 1497\n",
            "Guides for Pokémon GO - Pokemon GO News and Cheats : 826\n",
            "WWDC : 762\n",
            "Horror Maps for Minecraft PE - Download The Scariest Maps for Minecraft Pocket Edition (MCPE) Free : 718\n",
            "VPN Express : 14\n",
            "Real Bike Traffic Rider Virtual Reality Glasses : 8\n",
            "教えて!goo : 0\n",
            "Jishokun-Japanese English Dictionary & Translator : 0\n"
          ]
        }
      ]
    },
    {
      "cell_type": "markdown",
      "source": [
        "Function that counts averge number of installation in category"
      ],
      "metadata": {
        "id": "b3BYqTmleI1P"
      }
    },
    {
      "cell_type": "code",
      "source": [
        "freq_android = freq_table(android_free,1)\n",
        "for row in freq_android:\n",
        "  total = 0\n",
        "  len_category = 0\n",
        "\n",
        "  for app in android_free:\n",
        "    category_app = app[1]\n",
        "    if category_app == row:\n",
        "      n_installs = app[5]\n",
        "      n_installs = n_installs.replace('+','')\n",
        "      n_installs = n_installs.replace(',','')\n",
        "      total += float(n_installs)\n",
        "      len_category += 1\n",
        "  avg_n_installs = total / len_category\n",
        "  print(row, ':', avg_n_installs)"
      ],
      "metadata": {
        "colab": {
          "base_uri": "https://localhost:8080/"
        },
        "id": "vUjlpkvndtsH",
        "outputId": "b996ffc4-ee52-4cdf-ed7d-185b59825ed8"
      },
      "execution_count": 194,
      "outputs": [
        {
          "output_type": "stream",
          "name": "stdout",
          "text": [
            "ART_AND_DESIGN : 1986335.0877192982\n",
            "AUTO_AND_VEHICLES : 647317.8170731707\n",
            "BEAUTY : 513151.88679245283\n",
            "BOOKS_AND_REFERENCE : 8767811.894736841\n",
            "BUSINESS : 1712290.1474201474\n",
            "COMICS : 817657.2727272727\n",
            "COMMUNICATION : 38456119.167247385\n",
            "DATING : 854028.8303030303\n",
            "EDUCATION : 1833495.145631068\n",
            "ENTERTAINMENT : 11640705.88235294\n",
            "EVENTS : 253542.22222222222\n",
            "FINANCE : 1387692.475609756\n",
            "FOOD_AND_DRINK : 1924897.7363636363\n",
            "HEALTH_AND_FITNESS : 4188821.9853479853\n",
            "HOUSE_AND_HOME : 1331540.5616438356\n",
            "LIBRARIES_AND_DEMO : 638503.734939759\n",
            "LIFESTYLE : 1437816.2687861272\n",
            "GAME : 15588015.603248259\n",
            "FAMILY : 3695641.8198090694\n",
            "MEDICAL : 120550.61980830671\n",
            "SOCIAL : 23253652.127118643\n",
            "SHOPPING : 7036877.311557789\n",
            "PHOTOGRAPHY : 17840110.40229885\n",
            "SPORTS : 3638640.1428571427\n",
            "TRAVEL_AND_LOCAL : 13984077.710144928\n",
            "TOOLS : 10801391.298666667\n",
            "PERSONALIZATION : 5201482.6122448975\n",
            "PRODUCTIVITY : 16787331.344927534\n",
            "PARENTING : 542603.6206896552\n",
            "WEATHER : 5074486.197183099\n",
            "VIDEO_PLAYERS : 24727872.452830188\n",
            "NEWS_AND_MAGAZINES : 9549178.467741935\n",
            "MAPS_AND_NAVIGATION : 4056941.7741935486\n"
          ]
        }
      ]
    },
    {
      "cell_type": "code",
      "source": [
        "for app in android_free:\n",
        "    if app[1] == 'COMMUNICATION' and (app[5] == '1,000,000,000+'\n",
        "                                      or app[5] == '500,000,000+'\n",
        "                                      or app[5] == '100,000,000+'):\n",
        "        print(app[0], ':', app[5])"
      ],
      "metadata": {
        "colab": {
          "base_uri": "https://localhost:8080/"
        },
        "id": "9SgbBt7seS4e",
        "outputId": "7712600f-d4eb-43fb-cdc8-428e979049bb"
      },
      "execution_count": 195,
      "outputs": [
        {
          "output_type": "stream",
          "name": "stdout",
          "text": [
            "WhatsApp Messenger : 1,000,000,000+\n",
            "imo beta free calls and text : 100,000,000+\n",
            "Android Messages : 100,000,000+\n",
            "Google Duo - High Quality Video Calls : 500,000,000+\n",
            "Messenger – Text and Video Chat for Free : 1,000,000,000+\n",
            "imo free video calls and chat : 500,000,000+\n",
            "Skype - free IM & video calls : 1,000,000,000+\n",
            "Who : 100,000,000+\n",
            "GO SMS Pro - Messenger, Free Themes, Emoji : 100,000,000+\n",
            "LINE: Free Calls & Messages : 500,000,000+\n",
            "Google Chrome: Fast & Secure : 1,000,000,000+\n",
            "Firefox Browser fast & private : 100,000,000+\n",
            "UC Browser - Fast Download Private & Secure : 500,000,000+\n",
            "Gmail : 1,000,000,000+\n",
            "Hangouts : 1,000,000,000+\n",
            "Messenger Lite: Free Calls & Messages : 100,000,000+\n",
            "Kik : 100,000,000+\n",
            "KakaoTalk: Free Calls & Text : 100,000,000+\n",
            "Opera Mini - fast web browser : 100,000,000+\n",
            "Opera Browser: Fast and Secure : 100,000,000+\n",
            "Telegram : 100,000,000+\n",
            "Truecaller: Caller ID, SMS spam blocking & Dialer : 100,000,000+\n",
            "UC Browser Mini -Tiny Fast Private & Secure : 100,000,000+\n",
            "Viber Messenger : 500,000,000+\n",
            "WeChat : 100,000,000+\n",
            "Yahoo Mail – Stay Organized : 100,000,000+\n",
            "BBM - Free Calls & Messages : 100,000,000+\n"
          ]
        }
      ]
    }
  ]
}